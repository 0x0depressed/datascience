{
 "cells": [
  {
   "cell_type": "markdown",
   "id": "d89e88d8",
   "metadata": {},
   "source": [
    "# Самостоятельное задание #7\n",
    "\n",
    "\n",
    "### Задание 1\n",
    "\n",
    "Допишите функцию, которая принимает список чисел и, с помощью множеств, определяет количество различных чисел внутри списка."
   ]
  },
  {
   "cell_type": "code",
   "execution_count": 11,
   "id": "1b443f02",
   "metadata": {},
   "outputs": [],
   "source": [
    "def diff_val(list: list):\n",
    "    a = set(list)\n",
    "    return(len(a))\n",
    "\n"
   ]
  },
  {
   "cell_type": "markdown",
   "id": "89118666",
   "metadata": {},
   "source": [
    "### Задание 2\n",
    "\n",
    "Допишите функцию, которая принимает несколько списков чисел и, с помощью множеств, определяет количество общих чисел из первого и второго списка."
   ]
  },
  {
   "cell_type": "code",
   "execution_count": 12,
   "id": "9ad5e3fd",
   "metadata": {},
   "outputs": [],
   "source": [
    "def match(list1: list, list2: list):\n",
    "    return set(list1).intersection(set(list2))"
   ]
  }
 ],
 "metadata": {
  "kernelspec": {
   "display_name": "Python 3.10.7 64-bit",
   "language": "python",
   "name": "python3"
  },
  "language_info": {
   "codemirror_mode": {
    "name": "ipython",
    "version": 3
   },
   "file_extension": ".py",
   "mimetype": "text/x-python",
   "name": "python",
   "nbconvert_exporter": "python",
   "pygments_lexer": "ipython3",
   "version": "3.10.7"
  },
  "vscode": {
   "interpreter": {
    "hash": "1a6bca7338e781ad72f82564919a7bdfe48b08cf4c0f122c3e05f8e0aaf042dd"
   }
  }
 },
 "nbformat": 4,
 "nbformat_minor": 5
}
