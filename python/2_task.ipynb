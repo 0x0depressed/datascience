{
 "cells": [
  {
   "cell_type": "markdown",
   "id": "246424fe",
   "metadata": {},
   "source": [
    "# Самостоятельная работа #2\n",
    "### Задание 1\n",
    "\n",
    "Допишите функцию, которая принимает 2 числа, сравнивает между собой и возвращает наименьшее."
   ]
  },
  {
   "cell_type": "code",
   "execution_count": 10,
   "id": "1b225d18",
   "metadata": {},
   "outputs": [],
   "source": [
    "def min2(a, b):\n",
    "    if (a > b):\n",
    "        return b\n",
    "    else:\n",
    "        return a"
   ]
  },
  {
   "cell_type": "markdown",
   "id": "9342d85f",
   "metadata": {},
   "source": [
    "### Задание 2\n",
    "\n",
    "Допишите функцию, которая принимает 3 числа, сравнивает между собой и возвращает наименьшее."
   ]
  },
  {
   "cell_type": "code",
   "execution_count": 9,
   "id": "5371aa95",
   "metadata": {},
   "outputs": [],
   "source": [
    "def min3(a, b, c):\n",
    "    return min2(min2(a, b), c)"
   ]
  },
  {
   "cell_type": "markdown",
   "id": "9ef85dfd",
   "metadata": {},
   "source": [
    "### Задание 2\n",
    "\n",
    "Допишите функцию, которая принимает 3 числа, сравнивает между собой и возвращает количество совпадающих чисел. Соответственно, программа может возвращать одно из трех чисел: 3 - если совпадают все, 2 - если совпадают 2 числа, 0 - если все числа различны."
   ]
  },
  {
   "cell_type": "code",
   "execution_count": 8,
   "id": "ec6a169c",
   "metadata": {},
   "outputs": [],
   "source": [
    "def equal3(a, b, c):\n",
    "    if (a == b):\n",
    "        if (a == c):\n",
    "            return 3\n",
    "        else:\n",
    "            return 2\n",
    "    elif (a == c or b == c):\n",
    "        return 2\n",
    "    else:\n",
    "        return 0"
   ]
  }
 ],
 "metadata": {
  "kernelspec": {
   "display_name": "Python 3.10.7 64-bit",
   "language": "python",
   "name": "python3"
  },
  "language_info": {
   "codemirror_mode": {
    "name": "ipython",
    "version": 3
   },
   "file_extension": ".py",
   "mimetype": "text/x-python",
   "name": "python",
   "nbconvert_exporter": "python",
   "pygments_lexer": "ipython3",
   "version": "3.10.7"
  },
  "vscode": {
   "interpreter": {
    "hash": "1a6bca7338e781ad72f82564919a7bdfe48b08cf4c0f122c3e05f8e0aaf042dd"
   }
  }
 },
 "nbformat": 4,
 "nbformat_minor": 5
}
