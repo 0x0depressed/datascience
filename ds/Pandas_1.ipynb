{
 "nbformat": 4,
 "nbformat_minor": 5,
 "metadata": {
  "kernelspec": {
   "display_name": "Python 3 (ipykernel)",
   "language": "python",
   "name": "python3"
  },
  "language_info": {
   "codemirror_mode": {
    "name": "ipython",
    "version": 3
   },
   "file_extension": ".py",
   "mimetype": "text/x-python",
   "name": "python",
   "nbconvert_exporter": "python",
   "pygments_lexer": "ipython3",
   "version": "3.9.6"
  },
  "colab": {
   "name": "Pandas_1.ipynb",
   "provenance": [],
   "collapsed_sections": [
    "36396f4c"
   ]
  }
 },
 "cells": [
  {
   "cell_type": "markdown",
   "metadata": {
    "id": "80928f6d"
   },
   "source": [
    "## Lambda-выражения\n",
    "\n",
    "Под lambda-выражениями будем понимать обработку каждого элемента списка одной операцией. Данный функциональный подход наиболее оптимизирован в Python для обработки большого массива данных и позволяет грамотно и лаконично задать процесс обработки в одну строку"
   ],
   "id": "80928f6d"
  },
  {
   "cell_type": "code",
   "metadata": {
    "id": "0bc557da"
   },
   "source": [
    "def more3(l):\n",
    "    result = []\n",
    "    for n in l:\n",
    "        if n > 3:\n",
    "            result.append(n)\n",
    "    return result #[x > 3  for x in l]"
   ],
   "id": "0bc557da",
   "execution_count": null,
   "outputs": []
  },
  {
   "cell_type": "code",
   "metadata": {
    "id": "vZ_csTYBHhwS"
   },
   "source": [
    "list1 = [1, 2, 5, 4, 6, 3, 4]"
   ],
   "id": "vZ_csTYBHhwS",
   "execution_count": null,
   "outputs": []
  },
  {
   "cell_type": "code",
   "metadata": {
    "id": "97883a44",
    "colab": {
     "base_uri": "https://localhost:8080/"
    },
    "outputId": "481832c7-c4f1-4ece-f987-67ae80170fe9"
   },
   "source": [
    "more3(list1)"
   ],
   "id": "97883a44",
   "execution_count": null,
   "outputs": [
    {
     "output_type": "execute_result",
     "data": {
      "text/plain": [
       "[5, 4, 6, 4]"
      ]
     },
     "metadata": {},
     "execution_count": 9
    }
   ]
  },
  {
   "cell_type": "code",
   "metadata": {
    "id": "3f1dabaa"
   },
   "source": [
    "def isMoreThan3(n):\n",
    "    return n > 3"
   ],
   "id": "3f1dabaa",
   "execution_count": null,
   "outputs": []
  },
  {
   "cell_type": "code",
   "metadata": {
    "id": "480ce054",
    "outputId": "aed573ef-3731-4185-c896-0f0e386c4475"
   },
   "source": [
    "list(filter(isMoreThan3, list1))"
   ],
   "id": "480ce054",
   "execution_count": null,
   "outputs": [
    {
     "data": {
      "text/plain": [
       "[4, 5, 4]"
      ]
     },
     "execution_count": 77,
     "metadata": {},
     "output_type": "execute_result"
    }
   ]
  },
  {
   "cell_type": "code",
   "metadata": {
    "id": "6158be00",
    "colab": {
     "base_uri": "https://localhost:8080/"
    },
    "outputId": "869d8cb9-49de-4ff6-c2f5-7d13268533c4"
   },
   "source": [
    "list4 = filter(lambda x: x > 3, list1)\n",
    "list(list4)"
   ],
   "id": "6158be00",
   "execution_count": null,
   "outputs": [
    {
     "output_type": "execute_result",
     "data": {
      "text/plain": [
       "[5, 4, 6, 4]"
      ]
     },
     "metadata": {},
     "execution_count": 11
    }
   ]
  },
  {
   "cell_type": "code",
   "metadata": {
    "id": "ca0be33b",
    "outputId": "a3a945c2-180f-4a1d-b59b-861e540d3fb4"
   },
   "source": [
    "%timeit more3(list1)"
   ],
   "id": "ca0be33b",
   "execution_count": null,
   "outputs": [
    {
     "name": "stdout",
     "output_type": "stream",
     "text": [
      "750 ns ± 24.7 ns per loop (mean ± std. dev. of 7 runs, 1000000 loops each)\n"
     ]
    }
   ]
  },
  {
   "cell_type": "code",
   "metadata": {
    "id": "452ea6cb",
    "outputId": "412480ee-0735-4262-a336-da21cddf43e4"
   },
   "source": [
    "%timeit filter(lambda x: x > 3, list1)"
   ],
   "id": "452ea6cb",
   "execution_count": null,
   "outputs": [
    {
     "name": "stdout",
     "output_type": "stream",
     "text": [
      "306 ns ± 8.95 ns per loop (mean ± std. dev. of 7 runs, 1000000 loops each)\n"
     ]
    }
   ]
  },
  {
   "cell_type": "code",
   "metadata": {
    "id": "d11e17b1",
    "outputId": "db34cb25-8b08-4870-a41b-e4d8f69016e3"
   },
   "source": [
    "%timeit filter(isMoreThan3, list1)"
   ],
   "id": "d11e17b1",
   "execution_count": null,
   "outputs": [
    {
     "name": "stdout",
     "output_type": "stream",
     "text": [
      "224 ns ± 2.36 ns per loop (mean ± std. dev. of 7 runs, 1000000 loops each)\n"
     ]
    }
   ]
  },
  {
   "cell_type": "code",
   "metadata": {
    "id": "8971ecad",
    "outputId": "55f4e1f1-7b71-45dc-81ed-359c184aac4b"
   },
   "source": [
    "list5 = map(lambda x: x * 2, list1)\n",
    "list(list5)"
   ],
   "id": "8971ecad",
   "execution_count": null,
   "outputs": [
    {
     "data": {
      "text/plain": [
       "[4, 6, 8, 10, 8, 6, 4]"
      ]
     },
     "execution_count": 81,
     "metadata": {},
     "output_type": "execute_result"
    }
   ]
  },
  {
   "cell_type": "code",
   "metadata": {
    "id": "f5f72aa2",
    "outputId": "5403aec7-dbe4-4276-ea0e-48374497f628"
   },
   "source": [
    "strings = ['a', 'b', 'c']\n",
    "numbers = [1, 2, 3, 4, 5]\n",
    "list(zip(strings, numbers))"
   ],
   "id": "f5f72aa2",
   "execution_count": null,
   "outputs": [
    {
     "data": {
      "text/plain": [
       "[('a', 1), ('b', 2), ('c', 3)]"
      ]
     },
     "execution_count": 85,
     "metadata": {},
     "output_type": "execute_result"
    }
   ]
  },
  {
   "cell_type": "code",
   "metadata": {
    "id": "c3c7dbe5",
    "outputId": "88c1b62f-8d03-4029-e076-fde50f713feb"
   },
   "source": [
    "from functools import reduce\n",
    "list6 = [1, 2, 3, 4, 5]\n",
    "reduce(lambda x, y: x * y, list6)"
   ],
   "id": "c3c7dbe5",
   "execution_count": null,
   "outputs": [
    {
     "data": {
      "text/plain": [
       "120"
      ]
     },
     "execution_count": 95,
     "metadata": {},
     "output_type": "execute_result"
    }
   ]
  },
  {
   "cell_type": "code",
   "metadata": {
    "id": "tobpdSPRHdQV"
   },
   "source": [
    "import matplotlib.pyplot as plt"
   ],
   "id": "tobpdSPRHdQV",
   "execution_count": null,
   "outputs": []
  },
  {
   "cell_type": "markdown",
   "metadata": {
    "id": "36396f4c"
   },
   "source": [
    "## Датафреймы\n",
    "\n",
    "Для обработки данных в питоне обычно используют датафреймы. В датафреймах удобно работать с различного рода таблицами, проводить над ними операции, использовать некоторые операции из баз данных."
   ],
   "id": "36396f4c"
  },
  {
   "cell_type": "code",
   "metadata": {
    "id": "f06545d5"
   },
   "source": [
    "import pandas as pd"
   ],
   "id": "f06545d5",
   "execution_count": null,
   "outputs": []
  },
  {
   "cell_type": "code",
   "metadata": {
    "id": "0d81ef0c"
   },
   "source": [
    "ser = pd.Series([1, 2, 3], index=[3, 2, 1])"
   ],
   "id": "0d81ef0c",
   "execution_count": null,
   "outputs": []
  },
  {
   "cell_type": "code",
   "metadata": {
    "colab": {
     "base_uri": "https://localhost:8080/"
    },
    "id": "8c8efb29",
    "outputId": "6e2ffd5a-1d3f-4503-f5ad-9b93b100fdda"
   },
   "source": [
    "ser"
   ],
   "id": "8c8efb29",
   "execution_count": null,
   "outputs": [
    {
     "output_type": "execute_result",
     "data": {
      "text/plain": [
       "3    1\n",
       "2    2\n",
       "1    3\n",
       "dtype: int64"
      ]
     },
     "metadata": {},
     "execution_count": 16
    }
   ]
  },
  {
   "cell_type": "code",
   "metadata": {
    "colab": {
     "base_uri": "https://localhost:8080/"
    },
    "id": "32986ad9",
    "outputId": "8af08c4d-af72-4e18-fbc5-75e39f4115d9"
   },
   "source": [
    "ser.axes"
   ],
   "id": "32986ad9",
   "execution_count": null,
   "outputs": [
    {
     "output_type": "execute_result",
     "data": {
      "text/plain": [
       "[Int64Index([3, 2, 1], dtype='int64')]"
      ]
     },
     "metadata": {},
     "execution_count": 17
    }
   ]
  },
  {
   "cell_type": "code",
   "metadata": {
    "colab": {
     "base_uri": "https://localhost:8080/",
     "height": 143
    },
    "id": "w4aPRY_nWzxy",
    "outputId": "77f996e1-ffe5-4edc-ad6c-03b06950de8c"
   },
   "source": [
    "ser.reset_index()"
   ],
   "id": "w4aPRY_nWzxy",
   "execution_count": null,
   "outputs": [
    {
     "output_type": "execute_result",
     "data": {
      "text/html": [
       "<div>\n",
       "<style scoped>\n",
       "    .dataframe tbody tr th:only-of-type {\n",
       "        vertical-align: middle;\n",
       "    }\n",
       "\n",
       "    .dataframe tbody tr th {\n",
       "        vertical-align: top;\n",
       "    }\n",
       "\n",
       "    .dataframe thead th {\n",
       "        text-align: right;\n",
       "    }\n",
       "</style>\n",
       "<table border=\"1\" class=\"dataframe\">\n",
       "  <thead>\n",
       "    <tr style=\"text-align: right;\">\n",
       "      <th></th>\n",
       "      <th>index</th>\n",
       "      <th>0</th>\n",
       "    </tr>\n",
       "  </thead>\n",
       "  <tbody>\n",
       "    <tr>\n",
       "      <th>0</th>\n",
       "      <td>3</td>\n",
       "      <td>1</td>\n",
       "    </tr>\n",
       "    <tr>\n",
       "      <th>1</th>\n",
       "      <td>2</td>\n",
       "      <td>2</td>\n",
       "    </tr>\n",
       "    <tr>\n",
       "      <th>2</th>\n",
       "      <td>1</td>\n",
       "      <td>3</td>\n",
       "    </tr>\n",
       "  </tbody>\n",
       "</table>\n",
       "</div>"
      ],
      "text/plain": [
       "   index  0\n",
       "0      3  1\n",
       "1      2  2\n",
       "2      1  3"
      ]
     },
     "metadata": {},
     "execution_count": 18
    }
   ]
  },
  {
   "cell_type": "code",
   "metadata": {
    "id": "512af0ec",
    "colab": {
     "base_uri": "https://localhost:8080/",
     "height": 112
    },
    "outputId": "27e41b75-3389-4d52-8ad4-aa9c77a371b4"
   },
   "source": [
    "df = pd.DataFrame({'a': [1, 3], 'b': [2, 4]})\n",
    "df\n"
   ],
   "id": "512af0ec",
   "execution_count": null,
   "outputs": [
    {
     "output_type": "execute_result",
     "data": {
      "text/html": [
       "<div>\n",
       "<style scoped>\n",
       "    .dataframe tbody tr th:only-of-type {\n",
       "        vertical-align: middle;\n",
       "    }\n",
       "\n",
       "    .dataframe tbody tr th {\n",
       "        vertical-align: top;\n",
       "    }\n",
       "\n",
       "    .dataframe thead th {\n",
       "        text-align: right;\n",
       "    }\n",
       "</style>\n",
       "<table border=\"1\" class=\"dataframe\">\n",
       "  <thead>\n",
       "    <tr style=\"text-align: right;\">\n",
       "      <th></th>\n",
       "      <th>a</th>\n",
       "      <th>b</th>\n",
       "    </tr>\n",
       "  </thead>\n",
       "  <tbody>\n",
       "    <tr>\n",
       "      <th>0</th>\n",
       "      <td>1</td>\n",
       "      <td>2</td>\n",
       "    </tr>\n",
       "    <tr>\n",
       "      <th>1</th>\n",
       "      <td>3</td>\n",
       "      <td>4</td>\n",
       "    </tr>\n",
       "  </tbody>\n",
       "</table>\n",
       "</div>"
      ],
      "text/plain": [
       "   a  b\n",
       "0  1  2\n",
       "1  3  4"
      ]
     },
     "metadata": {},
     "execution_count": 22
    }
   ]
  },
  {
   "cell_type": "code",
   "metadata": {
    "id": "3229c72a",
    "outputId": "102c1951-ba4a-4fac-cc29-c235d6046ad6"
   },
   "source": [
    "type(df)"
   ],
   "id": "3229c72a",
   "execution_count": null,
   "outputs": [
    {
     "data": {
      "text/plain": [
       "pandas.core.frame.DataFrame"
      ]
     },
     "execution_count": 254,
     "metadata": {},
     "output_type": "execute_result"
    }
   ]
  },
  {
   "cell_type": "code",
   "metadata": {
    "id": "88c4441d"
   },
   "source": [
    "df = df.append({'a': 5, 'b': 6}, ignore_index=True)"
   ],
   "id": "88c4441d",
   "execution_count": null,
   "outputs": []
  },
  {
   "cell_type": "code",
   "metadata": {
    "id": "d5551bc8",
    "colab": {
     "base_uri": "https://localhost:8080/",
     "height": 175
    },
    "outputId": "894eea7e-ba57-40f3-d975-e338dcb270e2"
   },
   "source": [
    "df"
   ],
   "id": "d5551bc8",
   "execution_count": null,
   "outputs": [
    {
     "output_type": "execute_result",
     "data": {
      "text/html": [
       "<div>\n",
       "<style scoped>\n",
       "    .dataframe tbody tr th:only-of-type {\n",
       "        vertical-align: middle;\n",
       "    }\n",
       "\n",
       "    .dataframe tbody tr th {\n",
       "        vertical-align: top;\n",
       "    }\n",
       "\n",
       "    .dataframe thead th {\n",
       "        text-align: right;\n",
       "    }\n",
       "</style>\n",
       "<table border=\"1\" class=\"dataframe\">\n",
       "  <thead>\n",
       "    <tr style=\"text-align: right;\">\n",
       "      <th></th>\n",
       "      <th>a</th>\n",
       "      <th>b</th>\n",
       "    </tr>\n",
       "  </thead>\n",
       "  <tbody>\n",
       "    <tr>\n",
       "      <th>0</th>\n",
       "      <td>1</td>\n",
       "      <td>2</td>\n",
       "    </tr>\n",
       "    <tr>\n",
       "      <th>1</th>\n",
       "      <td>3</td>\n",
       "      <td>4</td>\n",
       "    </tr>\n",
       "    <tr>\n",
       "      <th>2</th>\n",
       "      <td>5</td>\n",
       "      <td>6</td>\n",
       "    </tr>\n",
       "    <tr>\n",
       "      <th>3</th>\n",
       "      <td>5</td>\n",
       "      <td>6</td>\n",
       "    </tr>\n",
       "  </tbody>\n",
       "</table>\n",
       "</div>"
      ],
      "text/plain": [
       "   a  b\n",
       "0  1  2\n",
       "1  3  4\n",
       "2  5  6\n",
       "3  5  6"
      ]
     },
     "metadata": {},
     "execution_count": 26
    }
   ]
  },
  {
   "cell_type": "code",
   "metadata": {
    "id": "e75c4c9b"
   },
   "source": [
    "df = pd.read_csv('data/TSLA.csv') # можно считывать разные файлы: csv - read_csv, xlsx - read_excel и тд"
   ],
   "id": "e75c4c9b",
   "execution_count": null,
   "outputs": []
  },
  {
   "cell_type": "code",
   "metadata": {
    "id": "1d065fc9",
    "colab": {
     "base_uri": "https://localhost:8080/",
     "height": 597
    },
    "outputId": "7bb15e93-2bec-4893-8b80-f0b0840b4ffb"
   },
   "source": [
    "df"
   ],
   "id": "1d065fc9",
   "execution_count": null,
   "outputs": [
    {
     "output_type": "execute_result",
     "data": {
      "text/html": [
       "<div>\n",
       "<style scoped>\n",
       "    .dataframe tbody tr th:only-of-type {\n",
       "        vertical-align: middle;\n",
       "    }\n",
       "\n",
       "    .dataframe tbody tr th {\n",
       "        vertical-align: top;\n",
       "    }\n",
       "\n",
       "    .dataframe thead th {\n",
       "        text-align: right;\n",
       "    }\n",
       "</style>\n",
       "<table border=\"1\" class=\"dataframe\">\n",
       "  <thead>\n",
       "    <tr style=\"text-align: right;\">\n",
       "      <th></th>\n",
       "      <th>Date</th>\n",
       "      <th>Open</th>\n",
       "      <th>High</th>\n",
       "      <th>Low</th>\n",
       "      <th>Close</th>\n",
       "      <th>Adj Close</th>\n",
       "      <th>Volume</th>\n",
       "    </tr>\n",
       "  </thead>\n",
       "  <tbody>\n",
       "    <tr>\n",
       "      <th>0</th>\n",
       "      <td>2010-06-29</td>\n",
       "      <td>19.000000</td>\n",
       "      <td>25.000000</td>\n",
       "      <td>17.540001</td>\n",
       "      <td>23.889999</td>\n",
       "      <td>23.889999</td>\n",
       "      <td>18766300</td>\n",
       "    </tr>\n",
       "    <tr>\n",
       "      <th>1</th>\n",
       "      <td>2010-06-30</td>\n",
       "      <td>25.790001</td>\n",
       "      <td>30.420000</td>\n",
       "      <td>23.299999</td>\n",
       "      <td>23.830000</td>\n",
       "      <td>23.830000</td>\n",
       "      <td>17187100</td>\n",
       "    </tr>\n",
       "    <tr>\n",
       "      <th>2</th>\n",
       "      <td>2010-07-01</td>\n",
       "      <td>25.000000</td>\n",
       "      <td>25.920000</td>\n",
       "      <td>20.270000</td>\n",
       "      <td>21.959999</td>\n",
       "      <td>21.959999</td>\n",
       "      <td>8218800</td>\n",
       "    </tr>\n",
       "    <tr>\n",
       "      <th>3</th>\n",
       "      <td>2010-07-02</td>\n",
       "      <td>23.000000</td>\n",
       "      <td>23.100000</td>\n",
       "      <td>18.709999</td>\n",
       "      <td>19.200001</td>\n",
       "      <td>19.200001</td>\n",
       "      <td>5139800</td>\n",
       "    </tr>\n",
       "    <tr>\n",
       "      <th>4</th>\n",
       "      <td>2010-07-06</td>\n",
       "      <td>20.000000</td>\n",
       "      <td>20.000000</td>\n",
       "      <td>15.830000</td>\n",
       "      <td>16.110001</td>\n",
       "      <td>16.110001</td>\n",
       "      <td>6866900</td>\n",
       "    </tr>\n",
       "    <tr>\n",
       "      <th>...</th>\n",
       "      <td>...</td>\n",
       "      <td>...</td>\n",
       "      <td>...</td>\n",
       "      <td>...</td>\n",
       "      <td>...</td>\n",
       "      <td>...</td>\n",
       "      <td>...</td>\n",
       "    </tr>\n",
       "    <tr>\n",
       "      <th>2411</th>\n",
       "      <td>2020-01-28</td>\n",
       "      <td>568.489990</td>\n",
       "      <td>576.809998</td>\n",
       "      <td>558.080017</td>\n",
       "      <td>566.900024</td>\n",
       "      <td>566.900024</td>\n",
       "      <td>11788500</td>\n",
       "    </tr>\n",
       "    <tr>\n",
       "      <th>2412</th>\n",
       "      <td>2020-01-29</td>\n",
       "      <td>575.690002</td>\n",
       "      <td>589.799988</td>\n",
       "      <td>567.429993</td>\n",
       "      <td>580.989990</td>\n",
       "      <td>580.989990</td>\n",
       "      <td>17801500</td>\n",
       "    </tr>\n",
       "    <tr>\n",
       "      <th>2413</th>\n",
       "      <td>2020-01-30</td>\n",
       "      <td>632.419983</td>\n",
       "      <td>650.880005</td>\n",
       "      <td>618.000000</td>\n",
       "      <td>640.809998</td>\n",
       "      <td>640.809998</td>\n",
       "      <td>29005700</td>\n",
       "    </tr>\n",
       "    <tr>\n",
       "      <th>2414</th>\n",
       "      <td>2020-01-31</td>\n",
       "      <td>640.000000</td>\n",
       "      <td>653.000000</td>\n",
       "      <td>632.520020</td>\n",
       "      <td>650.570007</td>\n",
       "      <td>650.570007</td>\n",
       "      <td>15719300</td>\n",
       "    </tr>\n",
       "    <tr>\n",
       "      <th>2415</th>\n",
       "      <td>2020-02-03</td>\n",
       "      <td>673.690002</td>\n",
       "      <td>786.140015</td>\n",
       "      <td>673.520020</td>\n",
       "      <td>780.000000</td>\n",
       "      <td>780.000000</td>\n",
       "      <td>47065000</td>\n",
       "    </tr>\n",
       "  </tbody>\n",
       "</table>\n",
       "<p>2416 rows × 7 columns</p>\n",
       "</div>"
      ],
      "text/plain": [
       "            Date        Open        High  ...       Close   Adj Close    Volume\n",
       "0     2010-06-29   19.000000   25.000000  ...   23.889999   23.889999  18766300\n",
       "1     2010-06-30   25.790001   30.420000  ...   23.830000   23.830000  17187100\n",
       "2     2010-07-01   25.000000   25.920000  ...   21.959999   21.959999   8218800\n",
       "3     2010-07-02   23.000000   23.100000  ...   19.200001   19.200001   5139800\n",
       "4     2010-07-06   20.000000   20.000000  ...   16.110001   16.110001   6866900\n",
       "...          ...         ...         ...  ...         ...         ...       ...\n",
       "2411  2020-01-28  568.489990  576.809998  ...  566.900024  566.900024  11788500\n",
       "2412  2020-01-29  575.690002  589.799988  ...  580.989990  580.989990  17801500\n",
       "2413  2020-01-30  632.419983  650.880005  ...  640.809998  640.809998  29005700\n",
       "2414  2020-01-31  640.000000  653.000000  ...  650.570007  650.570007  15719300\n",
       "2415  2020-02-03  673.690002  786.140015  ...  780.000000  780.000000  47065000\n",
       "\n",
       "[2416 rows x 7 columns]"
      ]
     },
     "metadata": {},
     "execution_count": 29
    }
   ]
  },
  {
   "cell_type": "code",
   "metadata": {
    "id": "47dbdd67",
    "colab": {
     "base_uri": "https://localhost:8080/",
     "height": 206
    },
    "outputId": "884fbb44-0ac4-4765-b8a3-c585d5814c94"
   },
   "source": [
    "# head(x) дает взглянуть на x первых строк\n",
    "\n",
    "df.head()"
   ],
   "id": "47dbdd67",
   "execution_count": null,
   "outputs": [
    {
     "output_type": "execute_result",
     "data": {
      "text/html": [
       "<div>\n",
       "<style scoped>\n",
       "    .dataframe tbody tr th:only-of-type {\n",
       "        vertical-align: middle;\n",
       "    }\n",
       "\n",
       "    .dataframe tbody tr th {\n",
       "        vertical-align: top;\n",
       "    }\n",
       "\n",
       "    .dataframe thead th {\n",
       "        text-align: right;\n",
       "    }\n",
       "</style>\n",
       "<table border=\"1\" class=\"dataframe\">\n",
       "  <thead>\n",
       "    <tr style=\"text-align: right;\">\n",
       "      <th></th>\n",
       "      <th>Date</th>\n",
       "      <th>Open</th>\n",
       "      <th>High</th>\n",
       "      <th>Low</th>\n",
       "      <th>Close</th>\n",
       "      <th>Adj Close</th>\n",
       "      <th>Volume</th>\n",
       "    </tr>\n",
       "  </thead>\n",
       "  <tbody>\n",
       "    <tr>\n",
       "      <th>0</th>\n",
       "      <td>2010-06-29</td>\n",
       "      <td>19.000000</td>\n",
       "      <td>25.00</td>\n",
       "      <td>17.540001</td>\n",
       "      <td>23.889999</td>\n",
       "      <td>23.889999</td>\n",
       "      <td>18766300</td>\n",
       "    </tr>\n",
       "    <tr>\n",
       "      <th>1</th>\n",
       "      <td>2010-06-30</td>\n",
       "      <td>25.790001</td>\n",
       "      <td>30.42</td>\n",
       "      <td>23.299999</td>\n",
       "      <td>23.830000</td>\n",
       "      <td>23.830000</td>\n",
       "      <td>17187100</td>\n",
       "    </tr>\n",
       "    <tr>\n",
       "      <th>2</th>\n",
       "      <td>2010-07-01</td>\n",
       "      <td>25.000000</td>\n",
       "      <td>25.92</td>\n",
       "      <td>20.270000</td>\n",
       "      <td>21.959999</td>\n",
       "      <td>21.959999</td>\n",
       "      <td>8218800</td>\n",
       "    </tr>\n",
       "    <tr>\n",
       "      <th>3</th>\n",
       "      <td>2010-07-02</td>\n",
       "      <td>23.000000</td>\n",
       "      <td>23.10</td>\n",
       "      <td>18.709999</td>\n",
       "      <td>19.200001</td>\n",
       "      <td>19.200001</td>\n",
       "      <td>5139800</td>\n",
       "    </tr>\n",
       "    <tr>\n",
       "      <th>4</th>\n",
       "      <td>2010-07-06</td>\n",
       "      <td>20.000000</td>\n",
       "      <td>20.00</td>\n",
       "      <td>15.830000</td>\n",
       "      <td>16.110001</td>\n",
       "      <td>16.110001</td>\n",
       "      <td>6866900</td>\n",
       "    </tr>\n",
       "  </tbody>\n",
       "</table>\n",
       "</div>"
      ],
      "text/plain": [
       "         Date       Open   High        Low      Close  Adj Close    Volume\n",
       "0  2010-06-29  19.000000  25.00  17.540001  23.889999  23.889999  18766300\n",
       "1  2010-06-30  25.790001  30.42  23.299999  23.830000  23.830000  17187100\n",
       "2  2010-07-01  25.000000  25.92  20.270000  21.959999  21.959999   8218800\n",
       "3  2010-07-02  23.000000  23.10  18.709999  19.200001  19.200001   5139800\n",
       "4  2010-07-06  20.000000  20.00  15.830000  16.110001  16.110001   6866900"
      ]
     },
     "metadata": {},
     "execution_count": 32
    }
   ]
  },
  {
   "cell_type": "code",
   "metadata": {
    "colab": {
     "base_uri": "https://localhost:8080/",
     "height": 293
    },
    "id": "5FivPKCqRFS0",
    "outputId": "4e2a4081-82e3-4a2f-9e5b-0d52af764e74"
   },
   "source": [
    "df.tail()"
   ],
   "id": "5FivPKCqRFS0",
   "execution_count": null,
   "outputs": [
    {
     "output_type": "execute_result",
     "data": {
      "text/html": [
       "<div>\n",
       "<style scoped>\n",
       "    .dataframe tbody tr th:only-of-type {\n",
       "        vertical-align: middle;\n",
       "    }\n",
       "\n",
       "    .dataframe tbody tr th {\n",
       "        vertical-align: top;\n",
       "    }\n",
       "\n",
       "    .dataframe thead th {\n",
       "        text-align: right;\n",
       "    }\n",
       "</style>\n",
       "<table border=\"1\" class=\"dataframe\">\n",
       "  <thead>\n",
       "    <tr style=\"text-align: right;\">\n",
       "      <th></th>\n",
       "      <th>Date</th>\n",
       "      <th>Open</th>\n",
       "      <th>High</th>\n",
       "      <th>Low</th>\n",
       "      <th>Close</th>\n",
       "      <th>Adj Close</th>\n",
       "      <th>Volume</th>\n",
       "    </tr>\n",
       "  </thead>\n",
       "  <tbody>\n",
       "    <tr>\n",
       "      <th>2411</th>\n",
       "      <td>2020-01-28</td>\n",
       "      <td>568.489990</td>\n",
       "      <td>576.809998</td>\n",
       "      <td>558.080017</td>\n",
       "      <td>566.900024</td>\n",
       "      <td>566.900024</td>\n",
       "      <td>11788500</td>\n",
       "    </tr>\n",
       "    <tr>\n",
       "      <th>2412</th>\n",
       "      <td>2020-01-29</td>\n",
       "      <td>575.690002</td>\n",
       "      <td>589.799988</td>\n",
       "      <td>567.429993</td>\n",
       "      <td>580.989990</td>\n",
       "      <td>580.989990</td>\n",
       "      <td>17801500</td>\n",
       "    </tr>\n",
       "    <tr>\n",
       "      <th>2413</th>\n",
       "      <td>2020-01-30</td>\n",
       "      <td>632.419983</td>\n",
       "      <td>650.880005</td>\n",
       "      <td>618.000000</td>\n",
       "      <td>640.809998</td>\n",
       "      <td>640.809998</td>\n",
       "      <td>29005700</td>\n",
       "    </tr>\n",
       "    <tr>\n",
       "      <th>2414</th>\n",
       "      <td>2020-01-31</td>\n",
       "      <td>640.000000</td>\n",
       "      <td>653.000000</td>\n",
       "      <td>632.520020</td>\n",
       "      <td>650.570007</td>\n",
       "      <td>650.570007</td>\n",
       "      <td>15719300</td>\n",
       "    </tr>\n",
       "    <tr>\n",
       "      <th>2415</th>\n",
       "      <td>2020-02-03</td>\n",
       "      <td>673.690002</td>\n",
       "      <td>786.140015</td>\n",
       "      <td>673.520020</td>\n",
       "      <td>780.000000</td>\n",
       "      <td>780.000000</td>\n",
       "      <td>47065000</td>\n",
       "    </tr>\n",
       "  </tbody>\n",
       "</table>\n",
       "</div>"
      ],
      "text/plain": [
       "            Date        Open        High  ...       Close   Adj Close    Volume\n",
       "2411  2020-01-28  568.489990  576.809998  ...  566.900024  566.900024  11788500\n",
       "2412  2020-01-29  575.690002  589.799988  ...  580.989990  580.989990  17801500\n",
       "2413  2020-01-30  632.419983  650.880005  ...  640.809998  640.809998  29005700\n",
       "2414  2020-01-31  640.000000  653.000000  ...  650.570007  650.570007  15719300\n",
       "2415  2020-02-03  673.690002  786.140015  ...  780.000000  780.000000  47065000\n",
       "\n",
       "[5 rows x 7 columns]"
      ]
     },
     "metadata": {},
     "execution_count": 33
    }
   ]
  },
  {
   "cell_type": "code",
   "metadata": {
    "id": "84283b6e",
    "colab": {
     "base_uri": "https://localhost:8080/"
    },
    "outputId": "79128f3e-6354-4eed-d464-5453a9331f7b"
   },
   "source": [
    "#info() сразу дает информацию о типах данных и количестве NaN значений\n",
    "\n",
    "df.info()"
   ],
   "id": "84283b6e",
   "execution_count": null,
   "outputs": [
    {
     "output_type": "stream",
     "name": "stdout",
     "text": [
      "<class 'pandas.core.frame.DataFrame'>\n",
      "RangeIndex: 2416 entries, 0 to 2415\n",
      "Data columns (total 7 columns):\n",
      " #   Column     Non-Null Count  Dtype  \n",
      "---  ------     --------------  -----  \n",
      " 0   Date       2416 non-null   object \n",
      " 1   Open       2416 non-null   float64\n",
      " 2   High       2416 non-null   float64\n",
      " 3   Low        2416 non-null   float64\n",
      " 4   Close      2416 non-null   float64\n",
      " 5   Adj Close  2416 non-null   float64\n",
      " 6   Volume     2416 non-null   int64  \n",
      "dtypes: float64(5), int64(1), object(1)\n",
      "memory usage: 132.2+ KB\n"
     ]
    }
   ]
  },
  {
   "cell_type": "code",
   "metadata": {
    "id": "NXRm7RJeRD__"
   },
   "source": [],
   "id": "NXRm7RJeRD__",
   "execution_count": null,
   "outputs": []
  },
  {
   "cell_type": "code",
   "metadata": {
    "id": "b9961f99",
    "colab": {
     "base_uri": "https://localhost:8080/"
    },
    "outputId": "6470f69d-d031-4c25-c667-2515147ef1c5"
   },
   "source": [
    "# Чтобы посмотреть на колонку, надо указать ее название в ковычках и квадратных скобках\n",
    "\n",
    "df['Date']"
   ],
   "id": "b9961f99",
   "execution_count": null,
   "outputs": [
    {
     "output_type": "execute_result",
     "data": {
      "text/plain": [
       "0       2010-06-29\n",
       "1       2010-06-30\n",
       "2       2010-07-01\n",
       "3       2010-07-02\n",
       "4       2010-07-06\n",
       "           ...    \n",
       "2411    2020-01-28\n",
       "2412    2020-01-29\n",
       "2413    2020-01-30\n",
       "2414    2020-01-31\n",
       "2415    2020-02-03\n",
       "Name: Date, Length: 2416, dtype: object"
      ]
     },
     "metadata": {},
     "execution_count": 36
    }
   ]
  },
  {
   "cell_type": "code",
   "metadata": {
    "id": "bNWzmIAM1UAB",
    "colab": {
     "base_uri": "https://localhost:8080/"
    },
    "outputId": "f8573cd7-bd4f-467b-f9b5-6b3d844998d4"
   },
   "source": [
    "# либо через точку\n",
    "\n",
    "df.Date"
   ],
   "id": "bNWzmIAM1UAB",
   "execution_count": null,
   "outputs": [
    {
     "output_type": "execute_result",
     "data": {
      "text/plain": [
       "0       2010-06-29\n",
       "1       2010-06-30\n",
       "2       2010-07-01\n",
       "3       2010-07-02\n",
       "4       2010-07-06\n",
       "           ...    \n",
       "2411    2020-01-28\n",
       "2412    2020-01-29\n",
       "2413    2020-01-30\n",
       "2414    2020-01-31\n",
       "2415    2020-02-03\n",
       "Name: Date, Length: 2416, dtype: object"
      ]
     },
     "metadata": {},
     "execution_count": 37
    }
   ]
  },
  {
   "cell_type": "code",
   "metadata": {
    "id": "f040f045",
    "colab": {
     "base_uri": "https://localhost:8080/",
     "height": 423
    },
    "outputId": "0ae6d909-1d78-48f1-ae92-c3b412d60c10"
   },
   "source": [
    "# Если интересует больше одного столбца - по 2 квадратных скобки\n",
    "\n",
    "df[['Date', 'Volume']]"
   ],
   "id": "f040f045",
   "execution_count": null,
   "outputs": [
    {
     "output_type": "execute_result",
     "data": {
      "text/html": [
       "<div>\n",
       "<style scoped>\n",
       "    .dataframe tbody tr th:only-of-type {\n",
       "        vertical-align: middle;\n",
       "    }\n",
       "\n",
       "    .dataframe tbody tr th {\n",
       "        vertical-align: top;\n",
       "    }\n",
       "\n",
       "    .dataframe thead th {\n",
       "        text-align: right;\n",
       "    }\n",
       "</style>\n",
       "<table border=\"1\" class=\"dataframe\">\n",
       "  <thead>\n",
       "    <tr style=\"text-align: right;\">\n",
       "      <th></th>\n",
       "      <th>Date</th>\n",
       "      <th>Volume</th>\n",
       "    </tr>\n",
       "  </thead>\n",
       "  <tbody>\n",
       "    <tr>\n",
       "      <th>0</th>\n",
       "      <td>2010-06-29</td>\n",
       "      <td>18766300</td>\n",
       "    </tr>\n",
       "    <tr>\n",
       "      <th>1</th>\n",
       "      <td>2010-06-30</td>\n",
       "      <td>17187100</td>\n",
       "    </tr>\n",
       "    <tr>\n",
       "      <th>2</th>\n",
       "      <td>2010-07-01</td>\n",
       "      <td>8218800</td>\n",
       "    </tr>\n",
       "    <tr>\n",
       "      <th>3</th>\n",
       "      <td>2010-07-02</td>\n",
       "      <td>5139800</td>\n",
       "    </tr>\n",
       "    <tr>\n",
       "      <th>4</th>\n",
       "      <td>2010-07-06</td>\n",
       "      <td>6866900</td>\n",
       "    </tr>\n",
       "    <tr>\n",
       "      <th>...</th>\n",
       "      <td>...</td>\n",
       "      <td>...</td>\n",
       "    </tr>\n",
       "    <tr>\n",
       "      <th>2411</th>\n",
       "      <td>2020-01-28</td>\n",
       "      <td>11788500</td>\n",
       "    </tr>\n",
       "    <tr>\n",
       "      <th>2412</th>\n",
       "      <td>2020-01-29</td>\n",
       "      <td>17801500</td>\n",
       "    </tr>\n",
       "    <tr>\n",
       "      <th>2413</th>\n",
       "      <td>2020-01-30</td>\n",
       "      <td>29005700</td>\n",
       "    </tr>\n",
       "    <tr>\n",
       "      <th>2414</th>\n",
       "      <td>2020-01-31</td>\n",
       "      <td>15719300</td>\n",
       "    </tr>\n",
       "    <tr>\n",
       "      <th>2415</th>\n",
       "      <td>2020-02-03</td>\n",
       "      <td>47065000</td>\n",
       "    </tr>\n",
       "  </tbody>\n",
       "</table>\n",
       "<p>2416 rows × 2 columns</p>\n",
       "</div>"
      ],
      "text/plain": [
       "            Date    Volume\n",
       "0     2010-06-29  18766300\n",
       "1     2010-06-30  17187100\n",
       "2     2010-07-01   8218800\n",
       "3     2010-07-02   5139800\n",
       "4     2010-07-06   6866900\n",
       "...          ...       ...\n",
       "2411  2020-01-28  11788500\n",
       "2412  2020-01-29  17801500\n",
       "2413  2020-01-30  29005700\n",
       "2414  2020-01-31  15719300\n",
       "2415  2020-02-03  47065000\n",
       "\n",
       "[2416 rows x 2 columns]"
      ]
     },
     "metadata": {},
     "execution_count": 38
    }
   ]
  },
  {
   "cell_type": "code",
   "metadata": {
    "id": "c2d78f0a",
    "outputId": "8925edd7-c89a-467a-fac4-fcc72142e0ac"
   },
   "source": [
    "# Строка с указанным номером\n",
    "\n",
    "df.loc[2808]"
   ],
   "id": "c2d78f0a",
   "execution_count": null,
   "outputs": [
    {
     "data": {
      "text/plain": [
       "Date         2021-08-24\n",
       "Open         710.679993\n",
       "High         715.219971\n",
       "Low          702.640015\n",
       "Close        708.489990\n",
       "Adj Close    708.489990\n",
       "Volume         13083100\n",
       "Name: 2808, dtype: object"
      ]
     },
     "execution_count": 276,
     "metadata": {},
     "output_type": "execute_result"
    }
   ]
  },
  {
   "cell_type": "code",
   "metadata": {
    "id": "a960e5d9",
    "outputId": "215e5200-10cf-4e42-a131-715280357de5"
   },
   "source": [
    "# Либо строки\n",
    "\n",
    "df.loc[[2808, 2812]]"
   ],
   "id": "a960e5d9",
   "execution_count": null,
   "outputs": [
    {
     "data": {
      "text/html": [
       "<div>\n",
       "<style scoped>\n",
       "    .dataframe tbody tr th:only-of-type {\n",
       "        vertical-align: middle;\n",
       "    }\n",
       "\n",
       "    .dataframe tbody tr th {\n",
       "        vertical-align: top;\n",
       "    }\n",
       "\n",
       "    .dataframe thead th {\n",
       "        text-align: right;\n",
       "    }\n",
       "</style>\n",
       "<table border=\"1\" class=\"dataframe\">\n",
       "  <thead>\n",
       "    <tr style=\"text-align: right;\">\n",
       "      <th></th>\n",
       "      <th>Date</th>\n",
       "      <th>Open</th>\n",
       "      <th>High</th>\n",
       "      <th>Low</th>\n",
       "      <th>Close</th>\n",
       "      <th>Adj Close</th>\n",
       "      <th>Volume</th>\n",
       "    </tr>\n",
       "  </thead>\n",
       "  <tbody>\n",
       "    <tr>\n",
       "      <th>2808</th>\n",
       "      <td>2021-08-24</td>\n",
       "      <td>710.679993</td>\n",
       "      <td>715.219971</td>\n",
       "      <td>702.640015</td>\n",
       "      <td>708.489990</td>\n",
       "      <td>708.489990</td>\n",
       "      <td>13083100</td>\n",
       "    </tr>\n",
       "    <tr>\n",
       "      <th>2812</th>\n",
       "      <td>2021-08-30</td>\n",
       "      <td>714.719971</td>\n",
       "      <td>731.000000</td>\n",
       "      <td>712.729980</td>\n",
       "      <td>730.909973</td>\n",
       "      <td>730.909973</td>\n",
       "      <td>18502400</td>\n",
       "    </tr>\n",
       "  </tbody>\n",
       "</table>\n",
       "</div>"
      ],
      "text/plain": [
       "            Date        Open        High         Low       Close   Adj Close  \\\n",
       "2808  2021-08-24  710.679993  715.219971  702.640015  708.489990  708.489990   \n",
       "2812  2021-08-30  714.719971  731.000000  712.729980  730.909973  730.909973   \n",
       "\n",
       "        Volume  \n",
       "2808  13083100  \n",
       "2812  18502400  "
      ]
     },
     "execution_count": 280,
     "metadata": {},
     "output_type": "execute_result"
    }
   ]
  },
  {
   "cell_type": "code",
   "metadata": {
    "id": "9ba7214a",
    "outputId": "f7f2ec65-3feb-4494-c726-c299865ff5a2"
   },
   "source": [
    "# iloc - строка с указанным индексом\n",
    "\n",
    "df.iloc[5]"
   ],
   "id": "9ba7214a",
   "execution_count": null,
   "outputs": [
    {
     "data": {
      "text/plain": [
       "Date         2010-07-07\n",
       "Open              3.280\n",
       "High              3.326\n",
       "Low               2.996\n",
       "Close             3.160\n",
       "Adj Close         3.160\n",
       "Volume         34608500\n",
       "Name: 5, dtype: object"
      ]
     },
     "execution_count": 281,
     "metadata": {},
     "output_type": "execute_result"
    }
   ]
  },
  {
   "cell_type": "code",
   "metadata": {
    "id": "2f2dab2c",
    "outputId": "e47595bc-265d-45af-96c1-f3da9200d2e0"
   },
   "source": [
    "df.iloc[[5, 7]]"
   ],
   "id": "2f2dab2c",
   "execution_count": null,
   "outputs": [
    {
     "data": {
      "text/html": [
       "<div>\n",
       "<style scoped>\n",
       "    .dataframe tbody tr th:only-of-type {\n",
       "        vertical-align: middle;\n",
       "    }\n",
       "\n",
       "    .dataframe tbody tr th {\n",
       "        vertical-align: top;\n",
       "    }\n",
       "\n",
       "    .dataframe thead th {\n",
       "        text-align: right;\n",
       "    }\n",
       "</style>\n",
       "<table border=\"1\" class=\"dataframe\">\n",
       "  <thead>\n",
       "    <tr style=\"text-align: right;\">\n",
       "      <th></th>\n",
       "      <th>Date</th>\n",
       "      <th>Open</th>\n",
       "      <th>High</th>\n",
       "      <th>Low</th>\n",
       "      <th>Close</th>\n",
       "      <th>Adj Close</th>\n",
       "      <th>Volume</th>\n",
       "    </tr>\n",
       "  </thead>\n",
       "  <tbody>\n",
       "    <tr>\n",
       "      <th>5</th>\n",
       "      <td>2010-07-07</td>\n",
       "      <td>3.280</td>\n",
       "      <td>3.326</td>\n",
       "      <td>2.996</td>\n",
       "      <td>3.16</td>\n",
       "      <td>3.16</td>\n",
       "      <td>34608500</td>\n",
       "    </tr>\n",
       "    <tr>\n",
       "      <th>7</th>\n",
       "      <td>2010-07-09</td>\n",
       "      <td>3.516</td>\n",
       "      <td>3.580</td>\n",
       "      <td>3.310</td>\n",
       "      <td>3.48</td>\n",
       "      <td>3.48</td>\n",
       "      <td>20253000</td>\n",
       "    </tr>\n",
       "  </tbody>\n",
       "</table>\n",
       "</div>"
      ],
      "text/plain": [
       "         Date   Open   High    Low  Close  Adj Close    Volume\n",
       "5  2010-07-07  3.280  3.326  2.996   3.16       3.16  34608500\n",
       "7  2010-07-09  3.516  3.580  3.310   3.48       3.48  20253000"
      ]
     },
     "execution_count": 282,
     "metadata": {},
     "output_type": "execute_result"
    }
   ]
  },
  {
   "cell_type": "code",
   "metadata": {
    "id": "37831453",
    "outputId": "65569efa-9ae4-427c-eeab-39de79b37c92"
   },
   "source": [
    "df.iloc[:20]"
   ],
   "id": "37831453",
   "execution_count": null,
   "outputs": [
    {
     "data": {
      "text/html": [
       "<div>\n",
       "<style scoped>\n",
       "    .dataframe tbody tr th:only-of-type {\n",
       "        vertical-align: middle;\n",
       "    }\n",
       "\n",
       "    .dataframe tbody tr th {\n",
       "        vertical-align: top;\n",
       "    }\n",
       "\n",
       "    .dataframe thead th {\n",
       "        text-align: right;\n",
       "    }\n",
       "</style>\n",
       "<table border=\"1\" class=\"dataframe\">\n",
       "  <thead>\n",
       "    <tr style=\"text-align: right;\">\n",
       "      <th></th>\n",
       "      <th>Date</th>\n",
       "      <th>Open</th>\n",
       "      <th>High</th>\n",
       "      <th>Low</th>\n",
       "      <th>Close</th>\n",
       "      <th>Adj Close</th>\n",
       "      <th>Volume</th>\n",
       "    </tr>\n",
       "  </thead>\n",
       "  <tbody>\n",
       "    <tr>\n",
       "      <th>0</th>\n",
       "      <td>2010-06-29</td>\n",
       "      <td>3.800</td>\n",
       "      <td>5.000</td>\n",
       "      <td>3.508</td>\n",
       "      <td>4.778</td>\n",
       "      <td>4.778</td>\n",
       "      <td>93831500</td>\n",
       "    </tr>\n",
       "    <tr>\n",
       "      <th>1</th>\n",
       "      <td>2010-06-30</td>\n",
       "      <td>5.158</td>\n",
       "      <td>6.084</td>\n",
       "      <td>4.660</td>\n",
       "      <td>4.766</td>\n",
       "      <td>4.766</td>\n",
       "      <td>85935500</td>\n",
       "    </tr>\n",
       "    <tr>\n",
       "      <th>2</th>\n",
       "      <td>2010-07-01</td>\n",
       "      <td>5.000</td>\n",
       "      <td>5.184</td>\n",
       "      <td>4.054</td>\n",
       "      <td>4.392</td>\n",
       "      <td>4.392</td>\n",
       "      <td>41094000</td>\n",
       "    </tr>\n",
       "    <tr>\n",
       "      <th>3</th>\n",
       "      <td>2010-07-02</td>\n",
       "      <td>4.600</td>\n",
       "      <td>4.620</td>\n",
       "      <td>3.742</td>\n",
       "      <td>3.840</td>\n",
       "      <td>3.840</td>\n",
       "      <td>25699000</td>\n",
       "    </tr>\n",
       "    <tr>\n",
       "      <th>4</th>\n",
       "      <td>2010-07-06</td>\n",
       "      <td>4.000</td>\n",
       "      <td>4.000</td>\n",
       "      <td>3.166</td>\n",
       "      <td>3.222</td>\n",
       "      <td>3.222</td>\n",
       "      <td>34334500</td>\n",
       "    </tr>\n",
       "    <tr>\n",
       "      <th>5</th>\n",
       "      <td>2010-07-07</td>\n",
       "      <td>3.280</td>\n",
       "      <td>3.326</td>\n",
       "      <td>2.996</td>\n",
       "      <td>3.160</td>\n",
       "      <td>3.160</td>\n",
       "      <td>34608500</td>\n",
       "    </tr>\n",
       "    <tr>\n",
       "      <th>6</th>\n",
       "      <td>2010-07-08</td>\n",
       "      <td>3.228</td>\n",
       "      <td>3.504</td>\n",
       "      <td>3.114</td>\n",
       "      <td>3.492</td>\n",
       "      <td>3.492</td>\n",
       "      <td>38557000</td>\n",
       "    </tr>\n",
       "    <tr>\n",
       "      <th>7</th>\n",
       "      <td>2010-07-09</td>\n",
       "      <td>3.516</td>\n",
       "      <td>3.580</td>\n",
       "      <td>3.310</td>\n",
       "      <td>3.480</td>\n",
       "      <td>3.480</td>\n",
       "      <td>20253000</td>\n",
       "    </tr>\n",
       "    <tr>\n",
       "      <th>8</th>\n",
       "      <td>2010-07-12</td>\n",
       "      <td>3.590</td>\n",
       "      <td>3.614</td>\n",
       "      <td>3.400</td>\n",
       "      <td>3.410</td>\n",
       "      <td>3.410</td>\n",
       "      <td>11012500</td>\n",
       "    </tr>\n",
       "    <tr>\n",
       "      <th>9</th>\n",
       "      <td>2010-07-13</td>\n",
       "      <td>3.478</td>\n",
       "      <td>3.728</td>\n",
       "      <td>3.380</td>\n",
       "      <td>3.628</td>\n",
       "      <td>3.628</td>\n",
       "      <td>13400500</td>\n",
       "    </tr>\n",
       "    <tr>\n",
       "      <th>10</th>\n",
       "      <td>2010-07-14</td>\n",
       "      <td>3.588</td>\n",
       "      <td>4.030</td>\n",
       "      <td>3.552</td>\n",
       "      <td>3.968</td>\n",
       "      <td>3.968</td>\n",
       "      <td>20976000</td>\n",
       "    </tr>\n",
       "    <tr>\n",
       "      <th>11</th>\n",
       "      <td>2010-07-15</td>\n",
       "      <td>3.988</td>\n",
       "      <td>4.300</td>\n",
       "      <td>3.800</td>\n",
       "      <td>3.978</td>\n",
       "      <td>3.978</td>\n",
       "      <td>18699000</td>\n",
       "    </tr>\n",
       "    <tr>\n",
       "      <th>12</th>\n",
       "      <td>2010-07-16</td>\n",
       "      <td>4.140</td>\n",
       "      <td>4.260</td>\n",
       "      <td>4.010</td>\n",
       "      <td>4.128</td>\n",
       "      <td>4.128</td>\n",
       "      <td>13106500</td>\n",
       "    </tr>\n",
       "    <tr>\n",
       "      <th>13</th>\n",
       "      <td>2010-07-19</td>\n",
       "      <td>4.274</td>\n",
       "      <td>4.450</td>\n",
       "      <td>4.184</td>\n",
       "      <td>4.382</td>\n",
       "      <td>4.382</td>\n",
       "      <td>12432500</td>\n",
       "    </tr>\n",
       "    <tr>\n",
       "      <th>14</th>\n",
       "      <td>2010-07-20</td>\n",
       "      <td>4.370</td>\n",
       "      <td>4.370</td>\n",
       "      <td>4.010</td>\n",
       "      <td>4.060</td>\n",
       "      <td>4.060</td>\n",
       "      <td>9126500</td>\n",
       "    </tr>\n",
       "    <tr>\n",
       "      <th>15</th>\n",
       "      <td>2010-07-21</td>\n",
       "      <td>4.132</td>\n",
       "      <td>4.180</td>\n",
       "      <td>3.900</td>\n",
       "      <td>4.044</td>\n",
       "      <td>4.044</td>\n",
       "      <td>6262500</td>\n",
       "    </tr>\n",
       "    <tr>\n",
       "      <th>16</th>\n",
       "      <td>2010-07-22</td>\n",
       "      <td>4.100</td>\n",
       "      <td>4.250</td>\n",
       "      <td>4.074</td>\n",
       "      <td>4.200</td>\n",
       "      <td>4.200</td>\n",
       "      <td>4789000</td>\n",
       "    </tr>\n",
       "    <tr>\n",
       "      <th>17</th>\n",
       "      <td>2010-07-23</td>\n",
       "      <td>4.238</td>\n",
       "      <td>4.312</td>\n",
       "      <td>4.212</td>\n",
       "      <td>4.258</td>\n",
       "      <td>4.258</td>\n",
       "      <td>3268000</td>\n",
       "    </tr>\n",
       "    <tr>\n",
       "      <th>18</th>\n",
       "      <td>2010-07-26</td>\n",
       "      <td>4.300</td>\n",
       "      <td>4.300</td>\n",
       "      <td>4.060</td>\n",
       "      <td>4.190</td>\n",
       "      <td>4.190</td>\n",
       "      <td>4611000</td>\n",
       "    </tr>\n",
       "    <tr>\n",
       "      <th>19</th>\n",
       "      <td>2010-07-27</td>\n",
       "      <td>4.182</td>\n",
       "      <td>4.236</td>\n",
       "      <td>4.052</td>\n",
       "      <td>4.110</td>\n",
       "      <td>4.110</td>\n",
       "      <td>3098500</td>\n",
       "    </tr>\n",
       "  </tbody>\n",
       "</table>\n",
       "</div>"
      ],
      "text/plain": [
       "          Date   Open   High    Low  Close  Adj Close    Volume\n",
       "0   2010-06-29  3.800  5.000  3.508  4.778      4.778  93831500\n",
       "1   2010-06-30  5.158  6.084  4.660  4.766      4.766  85935500\n",
       "2   2010-07-01  5.000  5.184  4.054  4.392      4.392  41094000\n",
       "3   2010-07-02  4.600  4.620  3.742  3.840      3.840  25699000\n",
       "4   2010-07-06  4.000  4.000  3.166  3.222      3.222  34334500\n",
       "5   2010-07-07  3.280  3.326  2.996  3.160      3.160  34608500\n",
       "6   2010-07-08  3.228  3.504  3.114  3.492      3.492  38557000\n",
       "7   2010-07-09  3.516  3.580  3.310  3.480      3.480  20253000\n",
       "8   2010-07-12  3.590  3.614  3.400  3.410      3.410  11012500\n",
       "9   2010-07-13  3.478  3.728  3.380  3.628      3.628  13400500\n",
       "10  2010-07-14  3.588  4.030  3.552  3.968      3.968  20976000\n",
       "11  2010-07-15  3.988  4.300  3.800  3.978      3.978  18699000\n",
       "12  2010-07-16  4.140  4.260  4.010  4.128      4.128  13106500\n",
       "13  2010-07-19  4.274  4.450  4.184  4.382      4.382  12432500\n",
       "14  2010-07-20  4.370  4.370  4.010  4.060      4.060   9126500\n",
       "15  2010-07-21  4.132  4.180  3.900  4.044      4.044   6262500\n",
       "16  2010-07-22  4.100  4.250  4.074  4.200      4.200   4789000\n",
       "17  2010-07-23  4.238  4.312  4.212  4.258      4.258   3268000\n",
       "18  2010-07-26  4.300  4.300  4.060  4.190      4.190   4611000\n",
       "19  2010-07-27  4.182  4.236  4.052  4.110      4.110   3098500"
      ]
     },
     "execution_count": 283,
     "metadata": {},
     "output_type": "execute_result"
    }
   ]
  },
  {
   "cell_type": "code",
   "metadata": {
    "id": "f4a95e5a",
    "outputId": "d1adf574-14f6-465d-b56b-a7d2f399c2b3"
   },
   "source": [
    "df[50:100]"
   ],
   "id": "f4a95e5a",
   "execution_count": null,
   "outputs": [
    {
     "data": {
      "text/html": [
       "<div>\n",
       "<style scoped>\n",
       "    .dataframe tbody tr th:only-of-type {\n",
       "        vertical-align: middle;\n",
       "    }\n",
       "\n",
       "    .dataframe tbody tr th {\n",
       "        vertical-align: top;\n",
       "    }\n",
       "\n",
       "    .dataframe thead th {\n",
       "        text-align: right;\n",
       "    }\n",
       "</style>\n",
       "<table border=\"1\" class=\"dataframe\">\n",
       "  <thead>\n",
       "    <tr style=\"text-align: right;\">\n",
       "      <th></th>\n",
       "      <th>Date</th>\n",
       "      <th>Open</th>\n",
       "      <th>High</th>\n",
       "      <th>Low</th>\n",
       "      <th>Close</th>\n",
       "      <th>Adj Close</th>\n",
       "      <th>Volume</th>\n",
       "    </tr>\n",
       "  </thead>\n",
       "  <tbody>\n",
       "    <tr>\n",
       "      <th>50</th>\n",
       "      <td>2010-09-09</td>\n",
       "      <td>4.200</td>\n",
       "      <td>4.210</td>\n",
       "      <td>4.138</td>\n",
       "      <td>4.142</td>\n",
       "      <td>4.142</td>\n",
       "      <td>1881000</td>\n",
       "    </tr>\n",
       "    <tr>\n",
       "      <th>51</th>\n",
       "      <td>2010-09-10</td>\n",
       "      <td>4.150</td>\n",
       "      <td>4.186</td>\n",
       "      <td>3.952</td>\n",
       "      <td>4.034</td>\n",
       "      <td>4.034</td>\n",
       "      <td>1933000</td>\n",
       "    </tr>\n",
       "    <tr>\n",
       "      <th>52</th>\n",
       "      <td>2010-09-13</td>\n",
       "      <td>4.178</td>\n",
       "      <td>4.180</td>\n",
       "      <td>4.100</td>\n",
       "      <td>4.144</td>\n",
       "      <td>4.144</td>\n",
       "      <td>1804000</td>\n",
       "    </tr>\n",
       "    <tr>\n",
       "      <th>53</th>\n",
       "      <td>2010-09-14</td>\n",
       "      <td>4.108</td>\n",
       "      <td>4.320</td>\n",
       "      <td>4.106</td>\n",
       "      <td>4.224</td>\n",
       "      <td>4.224</td>\n",
       "      <td>3273500</td>\n",
       "    </tr>\n",
       "    <tr>\n",
       "      <th>54</th>\n",
       "      <td>2010-09-15</td>\n",
       "      <td>4.196</td>\n",
       "      <td>4.400</td>\n",
       "      <td>4.158</td>\n",
       "      <td>4.396</td>\n",
       "      <td>4.396</td>\n",
       "      <td>3423000</td>\n",
       "    </tr>\n",
       "    <tr>\n",
       "      <th>55</th>\n",
       "      <td>2010-09-16</td>\n",
       "      <td>4.430</td>\n",
       "      <td>4.632</td>\n",
       "      <td>4.168</td>\n",
       "      <td>4.188</td>\n",
       "      <td>4.188</td>\n",
       "      <td>13422500</td>\n",
       "    </tr>\n",
       "    <tr>\n",
       "      <th>56</th>\n",
       "      <td>2010-09-17</td>\n",
       "      <td>4.204</td>\n",
       "      <td>4.264</td>\n",
       "      <td>3.960</td>\n",
       "      <td>4.046</td>\n",
       "      <td>4.046</td>\n",
       "      <td>5992500</td>\n",
       "    </tr>\n",
       "    <tr>\n",
       "      <th>57</th>\n",
       "      <td>2010-09-20</td>\n",
       "      <td>4.134</td>\n",
       "      <td>4.270</td>\n",
       "      <td>4.032</td>\n",
       "      <td>4.212</td>\n",
       "      <td>4.212</td>\n",
       "      <td>4737500</td>\n",
       "    </tr>\n",
       "    <tr>\n",
       "      <th>58</th>\n",
       "      <td>2010-09-21</td>\n",
       "      <td>4.178</td>\n",
       "      <td>4.310</td>\n",
       "      <td>4.134</td>\n",
       "      <td>4.154</td>\n",
       "      <td>4.154</td>\n",
       "      <td>3980000</td>\n",
       "    </tr>\n",
       "    <tr>\n",
       "      <th>59</th>\n",
       "      <td>2010-09-22</td>\n",
       "      <td>4.174</td>\n",
       "      <td>4.190</td>\n",
       "      <td>3.960</td>\n",
       "      <td>3.974</td>\n",
       "      <td>3.974</td>\n",
       "      <td>4814500</td>\n",
       "    </tr>\n",
       "    <tr>\n",
       "      <th>60</th>\n",
       "      <td>2010-09-23</td>\n",
       "      <td>3.978</td>\n",
       "      <td>4.028</td>\n",
       "      <td>3.900</td>\n",
       "      <td>3.912</td>\n",
       "      <td>3.912</td>\n",
       "      <td>3340500</td>\n",
       "    </tr>\n",
       "    <tr>\n",
       "      <th>61</th>\n",
       "      <td>2010-09-24</td>\n",
       "      <td>3.990</td>\n",
       "      <td>4.038</td>\n",
       "      <td>3.930</td>\n",
       "      <td>4.020</td>\n",
       "      <td>4.020</td>\n",
       "      <td>2894500</td>\n",
       "    </tr>\n",
       "    <tr>\n",
       "      <th>62</th>\n",
       "      <td>2010-09-27</td>\n",
       "      <td>4.080</td>\n",
       "      <td>4.162</td>\n",
       "      <td>4.010</td>\n",
       "      <td>4.106</td>\n",
       "      <td>4.106</td>\n",
       "      <td>2093000</td>\n",
       "    </tr>\n",
       "    <tr>\n",
       "      <th>63</th>\n",
       "      <td>2010-09-28</td>\n",
       "      <td>4.208</td>\n",
       "      <td>4.298</td>\n",
       "      <td>4.152</td>\n",
       "      <td>4.280</td>\n",
       "      <td>4.280</td>\n",
       "      <td>6072500</td>\n",
       "    </tr>\n",
       "    <tr>\n",
       "      <th>64</th>\n",
       "      <td>2010-09-29</td>\n",
       "      <td>4.238</td>\n",
       "      <td>4.406</td>\n",
       "      <td>4.226</td>\n",
       "      <td>4.396</td>\n",
       "      <td>4.396</td>\n",
       "      <td>9846500</td>\n",
       "    </tr>\n",
       "    <tr>\n",
       "      <th>65</th>\n",
       "      <td>2010-09-30</td>\n",
       "      <td>4.400</td>\n",
       "      <td>4.430</td>\n",
       "      <td>4.038</td>\n",
       "      <td>4.082</td>\n",
       "      <td>4.082</td>\n",
       "      <td>10979000</td>\n",
       "    </tr>\n",
       "    <tr>\n",
       "      <th>66</th>\n",
       "      <td>2010-10-01</td>\n",
       "      <td>4.138</td>\n",
       "      <td>4.150</td>\n",
       "      <td>4.062</td>\n",
       "      <td>4.120</td>\n",
       "      <td>4.120</td>\n",
       "      <td>2988500</td>\n",
       "    </tr>\n",
       "    <tr>\n",
       "      <th>67</th>\n",
       "      <td>2010-10-04</td>\n",
       "      <td>4.086</td>\n",
       "      <td>4.234</td>\n",
       "      <td>4.060</td>\n",
       "      <td>4.198</td>\n",
       "      <td>4.198</td>\n",
       "      <td>3218000</td>\n",
       "    </tr>\n",
       "    <tr>\n",
       "      <th>68</th>\n",
       "      <td>2010-10-05</td>\n",
       "      <td>4.230</td>\n",
       "      <td>4.256</td>\n",
       "      <td>4.202</td>\n",
       "      <td>4.224</td>\n",
       "      <td>4.224</td>\n",
       "      <td>1660000</td>\n",
       "    </tr>\n",
       "    <tr>\n",
       "      <th>69</th>\n",
       "      <td>2010-10-06</td>\n",
       "      <td>4.212</td>\n",
       "      <td>4.252</td>\n",
       "      <td>4.064</td>\n",
       "      <td>4.092</td>\n",
       "      <td>4.092</td>\n",
       "      <td>1567000</td>\n",
       "    </tr>\n",
       "    <tr>\n",
       "      <th>70</th>\n",
       "      <td>2010-10-07</td>\n",
       "      <td>4.114</td>\n",
       "      <td>4.128</td>\n",
       "      <td>4.068</td>\n",
       "      <td>4.086</td>\n",
       "      <td>4.086</td>\n",
       "      <td>705000</td>\n",
       "    </tr>\n",
       "    <tr>\n",
       "      <th>71</th>\n",
       "      <td>2010-10-08</td>\n",
       "      <td>4.086</td>\n",
       "      <td>4.158</td>\n",
       "      <td>4.078</td>\n",
       "      <td>4.086</td>\n",
       "      <td>4.086</td>\n",
       "      <td>1339000</td>\n",
       "    </tr>\n",
       "    <tr>\n",
       "      <th>72</th>\n",
       "      <td>2010-10-11</td>\n",
       "      <td>4.088</td>\n",
       "      <td>4.140</td>\n",
       "      <td>4.014</td>\n",
       "      <td>4.048</td>\n",
       "      <td>4.048</td>\n",
       "      <td>856000</td>\n",
       "    </tr>\n",
       "    <tr>\n",
       "      <th>73</th>\n",
       "      <td>2010-10-12</td>\n",
       "      <td>4.040</td>\n",
       "      <td>4.056</td>\n",
       "      <td>4.006</td>\n",
       "      <td>4.048</td>\n",
       "      <td>4.048</td>\n",
       "      <td>1220000</td>\n",
       "    </tr>\n",
       "    <tr>\n",
       "      <th>74</th>\n",
       "      <td>2010-10-13</td>\n",
       "      <td>4.128</td>\n",
       "      <td>4.170</td>\n",
       "      <td>4.072</td>\n",
       "      <td>4.108</td>\n",
       "      <td>4.108</td>\n",
       "      <td>1591000</td>\n",
       "    </tr>\n",
       "    <tr>\n",
       "      <th>75</th>\n",
       "      <td>2010-10-14</td>\n",
       "      <td>4.200</td>\n",
       "      <td>4.206</td>\n",
       "      <td>4.080</td>\n",
       "      <td>4.150</td>\n",
       "      <td>4.150</td>\n",
       "      <td>1474000</td>\n",
       "    </tr>\n",
       "    <tr>\n",
       "      <th>76</th>\n",
       "      <td>2010-10-15</td>\n",
       "      <td>4.178</td>\n",
       "      <td>4.180</td>\n",
       "      <td>4.050</td>\n",
       "      <td>4.108</td>\n",
       "      <td>4.108</td>\n",
       "      <td>1423500</td>\n",
       "    </tr>\n",
       "    <tr>\n",
       "      <th>77</th>\n",
       "      <td>2010-10-18</td>\n",
       "      <td>4.104</td>\n",
       "      <td>4.128</td>\n",
       "      <td>4.044</td>\n",
       "      <td>4.046</td>\n",
       "      <td>4.046</td>\n",
       "      <td>814000</td>\n",
       "    </tr>\n",
       "    <tr>\n",
       "      <th>78</th>\n",
       "      <td>2010-10-19</td>\n",
       "      <td>4.040</td>\n",
       "      <td>4.082</td>\n",
       "      <td>4.000</td>\n",
       "      <td>4.010</td>\n",
       "      <td>4.010</td>\n",
       "      <td>1226000</td>\n",
       "    </tr>\n",
       "    <tr>\n",
       "      <th>79</th>\n",
       "      <td>2010-10-20</td>\n",
       "      <td>4.032</td>\n",
       "      <td>4.138</td>\n",
       "      <td>4.008</td>\n",
       "      <td>4.130</td>\n",
       "      <td>4.130</td>\n",
       "      <td>1562500</td>\n",
       "    </tr>\n",
       "    <tr>\n",
       "      <th>80</th>\n",
       "      <td>2010-10-21</td>\n",
       "      <td>4.122</td>\n",
       "      <td>4.190</td>\n",
       "      <td>4.090</td>\n",
       "      <td>4.150</td>\n",
       "      <td>4.150</td>\n",
       "      <td>2085500</td>\n",
       "    </tr>\n",
       "    <tr>\n",
       "      <th>81</th>\n",
       "      <td>2010-10-22</td>\n",
       "      <td>4.136</td>\n",
       "      <td>4.186</td>\n",
       "      <td>4.110</td>\n",
       "      <td>4.144</td>\n",
       "      <td>4.144</td>\n",
       "      <td>805500</td>\n",
       "    </tr>\n",
       "    <tr>\n",
       "      <th>82</th>\n",
       "      <td>2010-10-25</td>\n",
       "      <td>4.188</td>\n",
       "      <td>4.196</td>\n",
       "      <td>4.146</td>\n",
       "      <td>4.170</td>\n",
       "      <td>4.170</td>\n",
       "      <td>592500</td>\n",
       "    </tr>\n",
       "    <tr>\n",
       "      <th>83</th>\n",
       "      <td>2010-10-26</td>\n",
       "      <td>4.160</td>\n",
       "      <td>4.374</td>\n",
       "      <td>4.102</td>\n",
       "      <td>4.272</td>\n",
       "      <td>4.272</td>\n",
       "      <td>3304500</td>\n",
       "    </tr>\n",
       "    <tr>\n",
       "      <th>84</th>\n",
       "      <td>2010-10-27</td>\n",
       "      <td>4.250</td>\n",
       "      <td>4.276</td>\n",
       "      <td>4.130</td>\n",
       "      <td>4.200</td>\n",
       "      <td>4.200</td>\n",
       "      <td>1782500</td>\n",
       "    </tr>\n",
       "    <tr>\n",
       "      <th>85</th>\n",
       "      <td>2010-10-28</td>\n",
       "      <td>4.278</td>\n",
       "      <td>4.300</td>\n",
       "      <td>4.192</td>\n",
       "      <td>4.238</td>\n",
       "      <td>4.238</td>\n",
       "      <td>1121000</td>\n",
       "    </tr>\n",
       "    <tr>\n",
       "      <th>86</th>\n",
       "      <td>2010-10-29</td>\n",
       "      <td>4.228</td>\n",
       "      <td>4.370</td>\n",
       "      <td>4.210</td>\n",
       "      <td>4.368</td>\n",
       "      <td>4.368</td>\n",
       "      <td>1403000</td>\n",
       "    </tr>\n",
       "    <tr>\n",
       "      <th>87</th>\n",
       "      <td>2010-11-01</td>\n",
       "      <td>4.388</td>\n",
       "      <td>4.550</td>\n",
       "      <td>4.262</td>\n",
       "      <td>4.282</td>\n",
       "      <td>4.282</td>\n",
       "      <td>2279000</td>\n",
       "    </tr>\n",
       "    <tr>\n",
       "      <th>88</th>\n",
       "      <td>2010-11-02</td>\n",
       "      <td>4.336</td>\n",
       "      <td>4.376</td>\n",
       "      <td>4.210</td>\n",
       "      <td>4.250</td>\n",
       "      <td>4.250</td>\n",
       "      <td>1612500</td>\n",
       "    </tr>\n",
       "    <tr>\n",
       "      <th>89</th>\n",
       "      <td>2010-11-03</td>\n",
       "      <td>4.256</td>\n",
       "      <td>4.500</td>\n",
       "      <td>4.232</td>\n",
       "      <td>4.354</td>\n",
       "      <td>4.354</td>\n",
       "      <td>1863000</td>\n",
       "    </tr>\n",
       "    <tr>\n",
       "      <th>90</th>\n",
       "      <td>2010-11-04</td>\n",
       "      <td>4.520</td>\n",
       "      <td>5.066</td>\n",
       "      <td>4.430</td>\n",
       "      <td>4.980</td>\n",
       "      <td>4.980</td>\n",
       "      <td>9370000</td>\n",
       "    </tr>\n",
       "    <tr>\n",
       "      <th>91</th>\n",
       "      <td>2010-11-05</td>\n",
       "      <td>4.974</td>\n",
       "      <td>4.994</td>\n",
       "      <td>4.744</td>\n",
       "      <td>4.888</td>\n",
       "      <td>4.888</td>\n",
       "      <td>5055000</td>\n",
       "    </tr>\n",
       "    <tr>\n",
       "      <th>92</th>\n",
       "      <td>2010-11-08</td>\n",
       "      <td>4.900</td>\n",
       "      <td>5.000</td>\n",
       "      <td>4.806</td>\n",
       "      <td>4.996</td>\n",
       "      <td>4.996</td>\n",
       "      <td>2547500</td>\n",
       "    </tr>\n",
       "    <tr>\n",
       "      <th>93</th>\n",
       "      <td>2010-11-09</td>\n",
       "      <td>5.000</td>\n",
       "      <td>5.138</td>\n",
       "      <td>4.810</td>\n",
       "      <td>4.926</td>\n",
       "      <td>4.926</td>\n",
       "      <td>4782000</td>\n",
       "    </tr>\n",
       "    <tr>\n",
       "      <th>94</th>\n",
       "      <td>2010-11-10</td>\n",
       "      <td>4.896</td>\n",
       "      <td>5.994</td>\n",
       "      <td>4.810</td>\n",
       "      <td>5.872</td>\n",
       "      <td>5.872</td>\n",
       "      <td>15302500</td>\n",
       "    </tr>\n",
       "    <tr>\n",
       "      <th>95</th>\n",
       "      <td>2010-11-11</td>\n",
       "      <td>5.720</td>\n",
       "      <td>5.820</td>\n",
       "      <td>5.466</td>\n",
       "      <td>5.608</td>\n",
       "      <td>5.608</td>\n",
       "      <td>9726500</td>\n",
       "    </tr>\n",
       "    <tr>\n",
       "      <th>96</th>\n",
       "      <td>2010-11-12</td>\n",
       "      <td>5.650</td>\n",
       "      <td>6.100</td>\n",
       "      <td>5.614</td>\n",
       "      <td>5.968</td>\n",
       "      <td>5.968</td>\n",
       "      <td>13645500</td>\n",
       "    </tr>\n",
       "    <tr>\n",
       "      <th>97</th>\n",
       "      <td>2010-11-15</td>\n",
       "      <td>6.044</td>\n",
       "      <td>6.588</td>\n",
       "      <td>6.044</td>\n",
       "      <td>6.160</td>\n",
       "      <td>6.160</td>\n",
       "      <td>13114500</td>\n",
       "    </tr>\n",
       "    <tr>\n",
       "      <th>98</th>\n",
       "      <td>2010-11-16</td>\n",
       "      <td>6.200</td>\n",
       "      <td>6.280</td>\n",
       "      <td>5.684</td>\n",
       "      <td>5.934</td>\n",
       "      <td>5.934</td>\n",
       "      <td>6738000</td>\n",
       "    </tr>\n",
       "    <tr>\n",
       "      <th>99</th>\n",
       "      <td>2010-11-17</td>\n",
       "      <td>6.040</td>\n",
       "      <td>6.150</td>\n",
       "      <td>5.722</td>\n",
       "      <td>5.898</td>\n",
       "      <td>5.898</td>\n",
       "      <td>3750000</td>\n",
       "    </tr>\n",
       "  </tbody>\n",
       "</table>\n",
       "</div>"
      ],
      "text/plain": [
       "          Date   Open   High    Low  Close  Adj Close    Volume\n",
       "50  2010-09-09  4.200  4.210  4.138  4.142      4.142   1881000\n",
       "51  2010-09-10  4.150  4.186  3.952  4.034      4.034   1933000\n",
       "52  2010-09-13  4.178  4.180  4.100  4.144      4.144   1804000\n",
       "53  2010-09-14  4.108  4.320  4.106  4.224      4.224   3273500\n",
       "54  2010-09-15  4.196  4.400  4.158  4.396      4.396   3423000\n",
       "55  2010-09-16  4.430  4.632  4.168  4.188      4.188  13422500\n",
       "56  2010-09-17  4.204  4.264  3.960  4.046      4.046   5992500\n",
       "57  2010-09-20  4.134  4.270  4.032  4.212      4.212   4737500\n",
       "58  2010-09-21  4.178  4.310  4.134  4.154      4.154   3980000\n",
       "59  2010-09-22  4.174  4.190  3.960  3.974      3.974   4814500\n",
       "60  2010-09-23  3.978  4.028  3.900  3.912      3.912   3340500\n",
       "61  2010-09-24  3.990  4.038  3.930  4.020      4.020   2894500\n",
       "62  2010-09-27  4.080  4.162  4.010  4.106      4.106   2093000\n",
       "63  2010-09-28  4.208  4.298  4.152  4.280      4.280   6072500\n",
       "64  2010-09-29  4.238  4.406  4.226  4.396      4.396   9846500\n",
       "65  2010-09-30  4.400  4.430  4.038  4.082      4.082  10979000\n",
       "66  2010-10-01  4.138  4.150  4.062  4.120      4.120   2988500\n",
       "67  2010-10-04  4.086  4.234  4.060  4.198      4.198   3218000\n",
       "68  2010-10-05  4.230  4.256  4.202  4.224      4.224   1660000\n",
       "69  2010-10-06  4.212  4.252  4.064  4.092      4.092   1567000\n",
       "70  2010-10-07  4.114  4.128  4.068  4.086      4.086    705000\n",
       "71  2010-10-08  4.086  4.158  4.078  4.086      4.086   1339000\n",
       "72  2010-10-11  4.088  4.140  4.014  4.048      4.048    856000\n",
       "73  2010-10-12  4.040  4.056  4.006  4.048      4.048   1220000\n",
       "74  2010-10-13  4.128  4.170  4.072  4.108      4.108   1591000\n",
       "75  2010-10-14  4.200  4.206  4.080  4.150      4.150   1474000\n",
       "76  2010-10-15  4.178  4.180  4.050  4.108      4.108   1423500\n",
       "77  2010-10-18  4.104  4.128  4.044  4.046      4.046    814000\n",
       "78  2010-10-19  4.040  4.082  4.000  4.010      4.010   1226000\n",
       "79  2010-10-20  4.032  4.138  4.008  4.130      4.130   1562500\n",
       "80  2010-10-21  4.122  4.190  4.090  4.150      4.150   2085500\n",
       "81  2010-10-22  4.136  4.186  4.110  4.144      4.144    805500\n",
       "82  2010-10-25  4.188  4.196  4.146  4.170      4.170    592500\n",
       "83  2010-10-26  4.160  4.374  4.102  4.272      4.272   3304500\n",
       "84  2010-10-27  4.250  4.276  4.130  4.200      4.200   1782500\n",
       "85  2010-10-28  4.278  4.300  4.192  4.238      4.238   1121000\n",
       "86  2010-10-29  4.228  4.370  4.210  4.368      4.368   1403000\n",
       "87  2010-11-01  4.388  4.550  4.262  4.282      4.282   2279000\n",
       "88  2010-11-02  4.336  4.376  4.210  4.250      4.250   1612500\n",
       "89  2010-11-03  4.256  4.500  4.232  4.354      4.354   1863000\n",
       "90  2010-11-04  4.520  5.066  4.430  4.980      4.980   9370000\n",
       "91  2010-11-05  4.974  4.994  4.744  4.888      4.888   5055000\n",
       "92  2010-11-08  4.900  5.000  4.806  4.996      4.996   2547500\n",
       "93  2010-11-09  5.000  5.138  4.810  4.926      4.926   4782000\n",
       "94  2010-11-10  4.896  5.994  4.810  5.872      5.872  15302500\n",
       "95  2010-11-11  5.720  5.820  5.466  5.608      5.608   9726500\n",
       "96  2010-11-12  5.650  6.100  5.614  5.968      5.968  13645500\n",
       "97  2010-11-15  6.044  6.588  6.044  6.160      6.160  13114500\n",
       "98  2010-11-16  6.200  6.280  5.684  5.934      5.934   6738000\n",
       "99  2010-11-17  6.040  6.150  5.722  5.898      5.898   3750000"
      ]
     },
     "execution_count": 284,
     "metadata": {},
     "output_type": "execute_result"
    }
   ]
  },
  {
   "cell_type": "code",
   "metadata": {
    "id": "5bc2bc81",
    "outputId": "c0df15a1-a1ea-4de1-e9ce-48118892124d"
   },
   "source": [
    "# Для поиска нужных строк можно использовать lambda-выражения или другие условия\n",
    "\n",
    "df.iloc[lambda x: x.index % 5 == 0]"
   ],
   "id": "5bc2bc81",
   "execution_count": null,
   "outputs": [
    {
     "data": {
      "text/html": [
       "<div>\n",
       "<style scoped>\n",
       "    .dataframe tbody tr th:only-of-type {\n",
       "        vertical-align: middle;\n",
       "    }\n",
       "\n",
       "    .dataframe tbody tr th {\n",
       "        vertical-align: top;\n",
       "    }\n",
       "\n",
       "    .dataframe thead th {\n",
       "        text-align: right;\n",
       "    }\n",
       "</style>\n",
       "<table border=\"1\" class=\"dataframe\">\n",
       "  <thead>\n",
       "    <tr style=\"text-align: right;\">\n",
       "      <th></th>\n",
       "      <th>Date</th>\n",
       "      <th>Open</th>\n",
       "      <th>High</th>\n",
       "      <th>Low</th>\n",
       "      <th>Close</th>\n",
       "      <th>Adj Close</th>\n",
       "      <th>Volume</th>\n",
       "    </tr>\n",
       "  </thead>\n",
       "  <tbody>\n",
       "    <tr>\n",
       "      <th>0</th>\n",
       "      <td>2010-06-29</td>\n",
       "      <td>3.800000</td>\n",
       "      <td>5.000000</td>\n",
       "      <td>3.508000</td>\n",
       "      <td>4.778000</td>\n",
       "      <td>4.778000</td>\n",
       "      <td>93831500</td>\n",
       "    </tr>\n",
       "    <tr>\n",
       "      <th>5</th>\n",
       "      <td>2010-07-07</td>\n",
       "      <td>3.280000</td>\n",
       "      <td>3.326000</td>\n",
       "      <td>2.996000</td>\n",
       "      <td>3.160000</td>\n",
       "      <td>3.160000</td>\n",
       "      <td>34608500</td>\n",
       "    </tr>\n",
       "    <tr>\n",
       "      <th>10</th>\n",
       "      <td>2010-07-14</td>\n",
       "      <td>3.588000</td>\n",
       "      <td>4.030000</td>\n",
       "      <td>3.552000</td>\n",
       "      <td>3.968000</td>\n",
       "      <td>3.968000</td>\n",
       "      <td>20976000</td>\n",
       "    </tr>\n",
       "    <tr>\n",
       "      <th>15</th>\n",
       "      <td>2010-07-21</td>\n",
       "      <td>4.132000</td>\n",
       "      <td>4.180000</td>\n",
       "      <td>3.900000</td>\n",
       "      <td>4.044000</td>\n",
       "      <td>4.044000</td>\n",
       "      <td>6262500</td>\n",
       "    </tr>\n",
       "    <tr>\n",
       "      <th>20</th>\n",
       "      <td>2010-07-28</td>\n",
       "      <td>4.110000</td>\n",
       "      <td>4.180000</td>\n",
       "      <td>4.102000</td>\n",
       "      <td>4.144000</td>\n",
       "      <td>4.144000</td>\n",
       "      <td>2336000</td>\n",
       "    </tr>\n",
       "    <tr>\n",
       "      <th>...</th>\n",
       "      <td>...</td>\n",
       "      <td>...</td>\n",
       "      <td>...</td>\n",
       "      <td>...</td>\n",
       "      <td>...</td>\n",
       "      <td>...</td>\n",
       "      <td>...</td>\n",
       "    </tr>\n",
       "    <tr>\n",
       "      <th>2790</th>\n",
       "      <td>2021-07-29</td>\n",
       "      <td>649.789978</td>\n",
       "      <td>683.690002</td>\n",
       "      <td>648.799988</td>\n",
       "      <td>677.349976</td>\n",
       "      <td>677.349976</td>\n",
       "      <td>30394600</td>\n",
       "    </tr>\n",
       "    <tr>\n",
       "      <th>2795</th>\n",
       "      <td>2021-08-05</td>\n",
       "      <td>716.000000</td>\n",
       "      <td>720.950012</td>\n",
       "      <td>711.409973</td>\n",
       "      <td>714.630005</td>\n",
       "      <td>714.630005</td>\n",
       "      <td>12919600</td>\n",
       "    </tr>\n",
       "    <tr>\n",
       "      <th>2800</th>\n",
       "      <td>2021-08-12</td>\n",
       "      <td>706.340027</td>\n",
       "      <td>722.799988</td>\n",
       "      <td>699.400024</td>\n",
       "      <td>722.250000</td>\n",
       "      <td>722.250000</td>\n",
       "      <td>17459100</td>\n",
       "    </tr>\n",
       "    <tr>\n",
       "      <th>2805</th>\n",
       "      <td>2021-08-19</td>\n",
       "      <td>678.210022</td>\n",
       "      <td>686.549988</td>\n",
       "      <td>667.590027</td>\n",
       "      <td>673.469971</td>\n",
       "      <td>673.469971</td>\n",
       "      <td>14313500</td>\n",
       "    </tr>\n",
       "    <tr>\n",
       "      <th>2810</th>\n",
       "      <td>2021-08-26</td>\n",
       "      <td>708.309998</td>\n",
       "      <td>715.400024</td>\n",
       "      <td>697.619995</td>\n",
       "      <td>701.159973</td>\n",
       "      <td>701.159973</td>\n",
       "      <td>13214300</td>\n",
       "    </tr>\n",
       "  </tbody>\n",
       "</table>\n",
       "<p>563 rows × 7 columns</p>\n",
       "</div>"
      ],
      "text/plain": [
       "            Date        Open        High         Low       Close   Adj Close  \\\n",
       "0     2010-06-29    3.800000    5.000000    3.508000    4.778000    4.778000   \n",
       "5     2010-07-07    3.280000    3.326000    2.996000    3.160000    3.160000   \n",
       "10    2010-07-14    3.588000    4.030000    3.552000    3.968000    3.968000   \n",
       "15    2010-07-21    4.132000    4.180000    3.900000    4.044000    4.044000   \n",
       "20    2010-07-28    4.110000    4.180000    4.102000    4.144000    4.144000   \n",
       "...          ...         ...         ...         ...         ...         ...   \n",
       "2790  2021-07-29  649.789978  683.690002  648.799988  677.349976  677.349976   \n",
       "2795  2021-08-05  716.000000  720.950012  711.409973  714.630005  714.630005   \n",
       "2800  2021-08-12  706.340027  722.799988  699.400024  722.250000  722.250000   \n",
       "2805  2021-08-19  678.210022  686.549988  667.590027  673.469971  673.469971   \n",
       "2810  2021-08-26  708.309998  715.400024  697.619995  701.159973  701.159973   \n",
       "\n",
       "        Volume  \n",
       "0     93831500  \n",
       "5     34608500  \n",
       "10    20976000  \n",
       "15     6262500  \n",
       "20     2336000  \n",
       "...        ...  \n",
       "2790  30394600  \n",
       "2795  12919600  \n",
       "2800  17459100  \n",
       "2805  14313500  \n",
       "2810  13214300  \n",
       "\n",
       "[563 rows x 7 columns]"
      ]
     },
     "execution_count": 285,
     "metadata": {},
     "output_type": "execute_result"
    }
   ]
  },
  {
   "cell_type": "code",
   "metadata": {
    "id": "IOPhHr9W1sGY"
   },
   "source": [],
   "id": "IOPhHr9W1sGY",
   "execution_count": null,
   "outputs": []
  },
  {
   "cell_type": "code",
   "metadata": {
    "id": "3a6bf8ad",
    "outputId": "8ddf6123-c797-4931-a913-a73840c15a81"
   },
   "source": [
    "df[295:305]"
   ],
   "id": "3a6bf8ad",
   "execution_count": null,
   "outputs": [
    {
     "data": {
      "text/html": [
       "<div>\n",
       "<style scoped>\n",
       "    .dataframe tbody tr th:only-of-type {\n",
       "        vertical-align: middle;\n",
       "    }\n",
       "\n",
       "    .dataframe tbody tr th {\n",
       "        vertical-align: top;\n",
       "    }\n",
       "\n",
       "    .dataframe thead th {\n",
       "        text-align: right;\n",
       "    }\n",
       "</style>\n",
       "<table border=\"1\" class=\"dataframe\">\n",
       "  <thead>\n",
       "    <tr style=\"text-align: right;\">\n",
       "      <th></th>\n",
       "      <th>Date</th>\n",
       "      <th>Open</th>\n",
       "      <th>High</th>\n",
       "      <th>Low</th>\n",
       "      <th>Close</th>\n",
       "      <th>Adj Close</th>\n",
       "      <th>Volume</th>\n",
       "    </tr>\n",
       "  </thead>\n",
       "  <tbody>\n",
       "    <tr>\n",
       "      <th>295</th>\n",
       "      <td>2011-08-29</td>\n",
       "      <td>4.844</td>\n",
       "      <td>4.970</td>\n",
       "      <td>4.804</td>\n",
       "      <td>4.942</td>\n",
       "      <td>4.942</td>\n",
       "      <td>4017000</td>\n",
       "    </tr>\n",
       "    <tr>\n",
       "      <th>296</th>\n",
       "      <td>2011-08-30</td>\n",
       "      <td>4.900</td>\n",
       "      <td>4.954</td>\n",
       "      <td>4.818</td>\n",
       "      <td>4.926</td>\n",
       "      <td>4.926</td>\n",
       "      <td>1831000</td>\n",
       "    </tr>\n",
       "    <tr>\n",
       "      <th>297</th>\n",
       "      <td>2011-08-31</td>\n",
       "      <td>4.960</td>\n",
       "      <td>5.100</td>\n",
       "      <td>4.856</td>\n",
       "      <td>4.948</td>\n",
       "      <td>4.948</td>\n",
       "      <td>4119000</td>\n",
       "    </tr>\n",
       "    <tr>\n",
       "      <th>298</th>\n",
       "      <td>2011-09-01</td>\n",
       "      <td>4.932</td>\n",
       "      <td>4.974</td>\n",
       "      <td>4.768</td>\n",
       "      <td>4.800</td>\n",
       "      <td>4.800</td>\n",
       "      <td>4240500</td>\n",
       "    </tr>\n",
       "    <tr>\n",
       "      <th>299</th>\n",
       "      <td>2011-09-02</td>\n",
       "      <td>4.732</td>\n",
       "      <td>4.798</td>\n",
       "      <td>4.536</td>\n",
       "      <td>4.614</td>\n",
       "      <td>4.614</td>\n",
       "      <td>3849500</td>\n",
       "    </tr>\n",
       "    <tr>\n",
       "      <th>300</th>\n",
       "      <td>2011-09-06</td>\n",
       "      <td>4.500</td>\n",
       "      <td>4.640</td>\n",
       "      <td>4.458</td>\n",
       "      <td>4.588</td>\n",
       "      <td>4.588</td>\n",
       "      <td>4049000</td>\n",
       "    </tr>\n",
       "    <tr>\n",
       "      <th>301</th>\n",
       "      <td>2011-09-07</td>\n",
       "      <td>4.678</td>\n",
       "      <td>4.800</td>\n",
       "      <td>4.656</td>\n",
       "      <td>4.768</td>\n",
       "      <td>4.768</td>\n",
       "      <td>2296000</td>\n",
       "    </tr>\n",
       "    <tr>\n",
       "      <th>302</th>\n",
       "      <td>2011-09-08</td>\n",
       "      <td>4.716</td>\n",
       "      <td>4.806</td>\n",
       "      <td>4.656</td>\n",
       "      <td>4.722</td>\n",
       "      <td>4.722</td>\n",
       "      <td>2528500</td>\n",
       "    </tr>\n",
       "    <tr>\n",
       "      <th>303</th>\n",
       "      <td>2011-09-09</td>\n",
       "      <td>4.674</td>\n",
       "      <td>4.714</td>\n",
       "      <td>4.510</td>\n",
       "      <td>4.594</td>\n",
       "      <td>4.594</td>\n",
       "      <td>3346500</td>\n",
       "    </tr>\n",
       "    <tr>\n",
       "      <th>304</th>\n",
       "      <td>2011-09-12</td>\n",
       "      <td>4.500</td>\n",
       "      <td>4.662</td>\n",
       "      <td>4.490</td>\n",
       "      <td>4.576</td>\n",
       "      <td>4.576</td>\n",
       "      <td>2833000</td>\n",
       "    </tr>\n",
       "  </tbody>\n",
       "</table>\n",
       "</div>"
      ],
      "text/plain": [
       "           Date   Open   High    Low  Close  Adj Close   Volume\n",
       "295  2011-08-29  4.844  4.970  4.804  4.942      4.942  4017000\n",
       "296  2011-08-30  4.900  4.954  4.818  4.926      4.926  1831000\n",
       "297  2011-08-31  4.960  5.100  4.856  4.948      4.948  4119000\n",
       "298  2011-09-01  4.932  4.974  4.768  4.800      4.800  4240500\n",
       "299  2011-09-02  4.732  4.798  4.536  4.614      4.614  3849500\n",
       "300  2011-09-06  4.500  4.640  4.458  4.588      4.588  4049000\n",
       "301  2011-09-07  4.678  4.800  4.656  4.768      4.768  2296000\n",
       "302  2011-09-08  4.716  4.806  4.656  4.722      4.722  2528500\n",
       "303  2011-09-09  4.674  4.714  4.510  4.594      4.594  3346500\n",
       "304  2011-09-12  4.500  4.662  4.490  4.576      4.576  2833000"
      ]
     },
     "execution_count": 287,
     "metadata": {},
     "output_type": "execute_result"
    }
   ]
  },
  {
   "cell_type": "code",
   "metadata": {
    "id": "1gSJ2fUBSlT4"
   },
   "source": [
    "df.index = df.Date"
   ],
   "id": "1gSJ2fUBSlT4",
   "execution_count": null,
   "outputs": []
  },
  {
   "cell_type": "code",
   "metadata": {
    "id": "ooTgPNd_Sx0F"
   },
   "source": [
    "df.index = range(len(df))"
   ],
   "id": "ooTgPNd_Sx0F",
   "execution_count": null,
   "outputs": []
  },
  {
   "cell_type": "code",
   "metadata": {
    "id": "47c73d82",
    "colab": {
     "base_uri": "https://localhost:8080/",
     "height": 35
    },
    "outputId": "6ce47113-6add-47e2-99fa-03751d8dbc69"
   },
   "source": [
    "df.iloc[300, 0]"
   ],
   "id": "47c73d82",
   "execution_count": null,
   "outputs": [
    {
     "output_type": "execute_result",
     "data": {
      "application/vnd.google.colaboratory.intrinsic+json": {
       "type": "string"
      },
      "text/plain": [
       "'2011-09-06'"
      ]
     },
     "metadata": {},
     "execution_count": 40
    }
   ]
  },
  {
   "cell_type": "code",
   "metadata": {
    "id": "bcace7eb",
    "outputId": "1b4cf635-193c-4415-c10b-11ae8ad1c2ab"
   },
   "source": [
    "df.iloc[[100, 300], [1, 4]]"
   ],
   "id": "bcace7eb",
   "execution_count": null,
   "outputs": [
    {
     "data": {
      "text/html": [
       "<div>\n",
       "<style scoped>\n",
       "    .dataframe tbody tr th:only-of-type {\n",
       "        vertical-align: middle;\n",
       "    }\n",
       "\n",
       "    .dataframe tbody tr th {\n",
       "        vertical-align: top;\n",
       "    }\n",
       "\n",
       "    .dataframe thead th {\n",
       "        text-align: right;\n",
       "    }\n",
       "</style>\n",
       "<table border=\"1\" class=\"dataframe\">\n",
       "  <thead>\n",
       "    <tr style=\"text-align: right;\">\n",
       "      <th></th>\n",
       "      <th>Open</th>\n",
       "      <th>Close</th>\n",
       "    </tr>\n",
       "  </thead>\n",
       "  <tbody>\n",
       "    <tr>\n",
       "      <th>100</th>\n",
       "      <td>6.134</td>\n",
       "      <td>5.978</td>\n",
       "    </tr>\n",
       "    <tr>\n",
       "      <th>300</th>\n",
       "      <td>4.500</td>\n",
       "      <td>4.588</td>\n",
       "    </tr>\n",
       "  </tbody>\n",
       "</table>\n",
       "</div>"
      ],
      "text/plain": [
       "      Open  Close\n",
       "100  6.134  5.978\n",
       "300  4.500  4.588"
      ]
     },
     "execution_count": 292,
     "metadata": {},
     "output_type": "execute_result"
    }
   ]
  },
  {
   "cell_type": "code",
   "metadata": {
    "id": "3f86d8b5",
    "outputId": "5b3ef9fd-9a2a-442b-c544-180e2aa28360"
   },
   "source": [
    "df['Volume'].max()"
   ],
   "id": "3f86d8b5",
   "execution_count": null,
   "outputs": [
    {
     "data": {
      "text/plain": [
       "304694000"
      ]
     },
     "execution_count": 293,
     "metadata": {},
     "output_type": "execute_result"
    }
   ]
  },
  {
   "cell_type": "code",
   "metadata": {
    "id": "56ac02c8",
    "outputId": "79ce76c3-6d21-4531-f5c3-4e4d9e563030"
   },
   "source": [
    "df['Close'].median()"
   ],
   "id": "56ac02c8",
   "execution_count": null,
   "outputs": [
    {
     "data": {
      "text/plain": [
       "45.664001"
      ]
     },
     "execution_count": 294,
     "metadata": {},
     "output_type": "execute_result"
    }
   ]
  },
  {
   "cell_type": "code",
   "metadata": {
    "id": "78c34675",
    "outputId": "d39e30db-283a-4be7-fde7-cedeee877b2f"
   },
   "source": [
    "df['Close'].mean()"
   ],
   "id": "78c34675",
   "execution_count": null,
   "outputs": [
    {
     "data": {
      "text/plain": [
       "98.34987687984356"
      ]
     },
     "execution_count": 295,
     "metadata": {},
     "output_type": "execute_result"
    }
   ]
  },
  {
   "cell_type": "code",
   "metadata": {
    "id": "f64f3072"
   },
   "source": [
    "# позволяет просто выбросить строки с пропущенными значениями\n",
    "\n",
    "df = df.dropna()"
   ],
   "id": "f64f3072",
   "execution_count": null,
   "outputs": []
  },
  {
   "cell_type": "code",
   "metadata": {
    "colab": {
     "base_uri": "https://localhost:8080/"
    },
    "id": "cQ0loy-yTN47",
    "outputId": "9d502f81-151f-4aea-d567-b20ca8ea2e93"
   },
   "source": [
    "# Поиск строк по условию\n",
    "\n",
    "\n",
    "df[df['Volume'].isna() == False]['High']"
   ],
   "id": "cQ0loy-yTN47",
   "execution_count": null,
   "outputs": [
    {
     "output_type": "execute_result",
     "data": {
      "text/plain": [
       "0        25.000000\n",
       "1        30.420000\n",
       "2        25.920000\n",
       "3        23.100000\n",
       "4        20.000000\n",
       "           ...    \n",
       "2411    576.809998\n",
       "2412    589.799988\n",
       "2413    650.880005\n",
       "2414    653.000000\n",
       "2415    786.140015\n",
       "Name: High, Length: 2416, dtype: float64"
      ]
     },
     "metadata": {},
     "execution_count": 50
    }
   ]
  },
  {
   "cell_type": "code",
   "metadata": {
    "scrolled": false,
    "id": "9d23bec6",
    "colab": {
     "base_uri": "https://localhost:8080/"
    },
    "outputId": "69ce026b-af7b-4e37-9519-379dbdbf69aa"
   },
   "source": [
    "len(df[df['Open'] > df['Open'].mean()]) # количество дней, когда цена была выше стредней"
   ],
   "id": "9d23bec6",
   "execution_count": null,
   "outputs": [
    {
     "output_type": "execute_result",
     "data": {
      "text/plain": [
       "1475"
      ]
     },
     "metadata": {},
     "execution_count": 52
    }
   ]
  },
  {
   "cell_type": "code",
   "metadata": {
    "id": "5bcf6b11",
    "outputId": "a2b7d620-6e1f-4221-d1cb-c935bd1a4959"
   },
   "source": [
    "df.info()"
   ],
   "id": "5bcf6b11",
   "execution_count": null,
   "outputs": [
    {
     "name": "stdout",
     "output_type": "stream",
     "text": [
      "<class 'pandas.core.frame.DataFrame'>\n",
      "Int64Index: 2813 entries, 0 to 2812\n",
      "Data columns (total 7 columns):\n",
      " #   Column     Non-Null Count  Dtype  \n",
      "---  ------     --------------  -----  \n",
      " 0   Date       2813 non-null   object \n",
      " 1   Open       2813 non-null   float64\n",
      " 2   High       2813 non-null   float64\n",
      " 3   Low        2813 non-null   float64\n",
      " 4   Close      2813 non-null   float64\n",
      " 5   Adj Close  2813 non-null   float64\n",
      " 6   Volume     2813 non-null   int64  \n",
      "dtypes: float64(5), int64(1), object(1)\n",
      "memory usage: 175.8+ KB\n"
     ]
    }
   ]
  },
  {
   "cell_type": "code",
   "metadata": {
    "id": "b55fcbf9",
    "colab": {
     "base_uri": "https://localhost:8080/"
    },
    "outputId": "206c7142-bd0f-432d-d05b-a754ee7848c1"
   },
   "source": [
    "df['Open'].where(lambda x: x < 100).dropna()"
   ],
   "id": "b55fcbf9",
   "execution_count": null,
   "outputs": [
    {
     "output_type": "execute_result",
     "data": {
      "text/plain": [
       "0      19.000000\n",
       "1      25.790001\n",
       "2      25.000000\n",
       "3      23.000000\n",
       "4      20.000000\n",
       "         ...    \n",
       "741    98.930000\n",
       "742    98.180000\n",
       "743    96.800003\n",
       "744    99.000000\n",
       "751    96.500000\n",
       "Name: Open, Length: 742, dtype: float64"
      ]
     },
     "metadata": {},
     "execution_count": 55
    }
   ]
  },
  {
   "cell_type": "code",
   "metadata": {
    "id": "24d24807",
    "outputId": "a0b170cd-d4c3-4917-e967-f2c10100e332"
   },
   "source": [
    "df['Open'].apply(lambda x: x * 10)"
   ],
   "id": "24d24807",
   "execution_count": null,
   "outputs": [
    {
     "data": {
      "text/plain": [
       "0         38.00000\n",
       "1         51.58000\n",
       "2         50.00000\n",
       "3         46.00000\n",
       "4         40.00000\n",
       "           ...    \n",
       "2808    7106.79993\n",
       "2809    7070.30029\n",
       "2810    7083.09998\n",
       "2811    7050.00000\n",
       "2812    7147.19971\n",
       "Name: Open, Length: 2813, dtype: float64"
      ]
     },
     "execution_count": 310,
     "metadata": {},
     "output_type": "execute_result"
    }
   ]
  },
  {
   "cell_type": "code",
   "metadata": {
    "id": "1513ce50",
    "outputId": "bd3e59f9-926a-4296-a448-43aae8954b40"
   },
   "source": [
    "df['Open'].apply(lambda x: average(x))"
   ],
   "id": "1513ce50",
   "execution_count": null,
   "outputs": [
    {
     "data": {
      "text/plain": [
       "0         3.800000\n",
       "1         5.158000\n",
       "2         5.000000\n",
       "3         4.600000\n",
       "4         4.000000\n",
       "           ...    \n",
       "2808    710.679993\n",
       "2809    707.030029\n",
       "2810    708.309998\n",
       "2811    705.000000\n",
       "2812    714.719971\n",
       "Name: Open, Length: 2813, dtype: float64"
      ]
     },
     "execution_count": 322,
     "metadata": {},
     "output_type": "execute_result"
    }
   ]
  },
  {
   "cell_type": "code",
   "metadata": {
    "colab": {
     "base_uri": "https://localhost:8080/"
    },
    "id": "twEiCwm4UqEJ",
    "outputId": "1ba62434-cedf-48ef-cf7e-f1969338d252"
   },
   "source": [
    "mean = df['Open'].mean()\n",
    "def is_too_low(x):\n",
    "  if x < mean*0.8:\n",
    "    return True\n",
    "  else:\n",
    "    return False\n",
    "\n",
    "def replace_too_low(x):\n",
    "  if x < mean*0.9:\n",
    "    return  mean*0.9\n",
    "  else:\n",
    "    return x\n",
    "\n",
    "def my_replace(x):\n",
    "  return x*0.95\n",
    "\n",
    "df[df['Open'].apply(is_too_low)]['Open'] = mean*0.8"
   ],
   "id": "twEiCwm4UqEJ",
   "execution_count": null,
   "outputs": [
    {
     "output_type": "stream",
     "name": "stderr",
     "text": [
      "/usr/local/lib/python3.7/dist-packages/ipykernel_launcher.py:17: SettingWithCopyWarning: \n",
      "A value is trying to be set on a copy of a slice from a DataFrame.\n",
      "Try using .loc[row_indexer,col_indexer] = value instead\n",
      "\n",
      "See the caveats in the documentation: https://pandas.pydata.org/pandas-docs/stable/user_guide/indexing.html#returning-a-view-versus-a-copy\n"
     ]
    }
   ]
  },
  {
   "cell_type": "code",
   "metadata": {
    "colab": {
     "base_uri": "https://localhost:8080/"
    },
    "id": "uVFxfvShWNq7",
    "outputId": "434cd05c-aa69-4a75-9ada-4d61ec3f8956"
   },
   "source": [
    "df['Open'].apply(replace_too_low)"
   ],
   "id": "uVFxfvShWNq7",
   "execution_count": null,
   "outputs": [
    {
     "output_type": "execute_result",
     "data": {
      "text/plain": [
       "0       167.644032\n",
       "1       167.644032\n",
       "2       167.644032\n",
       "3       167.644032\n",
       "4       167.644032\n",
       "           ...    \n",
       "2411    568.489990\n",
       "2412    575.690002\n",
       "2413    632.419983\n",
       "2414    640.000000\n",
       "2415    673.690002\n",
       "Name: Open, Length: 2416, dtype: float64"
      ]
     },
     "metadata": {},
     "execution_count": 63
    }
   ]
  },
  {
   "cell_type": "code",
   "metadata": {
    "id": "49RWrtaQWewv"
   },
   "source": [
    "df['Open'] = df[df['Open'] < mean*0.95]['Open'].apply(my_replace)"
   ],
   "id": "49RWrtaQWewv",
   "execution_count": null,
   "outputs": []
  },
  {
   "cell_type": "code",
   "metadata": {
    "id": "873d7070",
    "outputId": "fc046def-c3b5-47ce-af2c-c702c11175b6"
   },
   "source": [
    "np.mean([5, 4.6])"
   ],
   "id": "873d7070",
   "execution_count": null,
   "outputs": [
    {
     "data": {
      "text/plain": [
       "4.8"
      ]
     },
     "execution_count": 343,
     "metadata": {},
     "output_type": "execute_result"
    }
   ]
  },
  {
   "cell_type": "code",
   "metadata": {
    "colab": {
     "base_uri": "https://localhost:8080/"
    },
    "id": "rblnumeuXKU2",
    "outputId": "9b80e938-574c-4198-f93a-cdb558c76c34"
   },
   "source": [
    "df.columns"
   ],
   "id": "rblnumeuXKU2",
   "execution_count": null,
   "outputs": [
    {
     "output_type": "execute_result",
     "data": {
      "text/plain": [
       "Index(['Date', 'Open', 'High', 'Low', 'Close', 'Adj Close', 'Volume'], dtype='object')"
      ]
     },
     "metadata": {},
     "execution_count": 73
    }
   ]
  },
  {
   "cell_type": "code",
   "metadata": {
    "id": "QeQhdd3DXi1_"
   },
   "source": [
    "import numpy as np\n",
    "ind = [np.random.randint(0, len(df)) for i in range(50)]"
   ],
   "id": "QeQhdd3DXi1_",
   "execution_count": null,
   "outputs": []
  },
  {
   "cell_type": "code",
   "metadata": {
    "colab": {
     "base_uri": "https://localhost:8080/"
    },
    "id": "PZF4YiMZXC1C",
    "outputId": "139b7b77-b926-46b9-9b92-5113bb746f8d"
   },
   "source": [
    "df['Close'][ind] = None"
   ],
   "id": "PZF4YiMZXC1C",
   "execution_count": null,
   "outputs": [
    {
     "output_type": "stream",
     "name": "stderr",
     "text": [
      "/usr/local/lib/python3.7/dist-packages/ipykernel_launcher.py:1: SettingWithCopyWarning: \n",
      "A value is trying to be set on a copy of a slice from a DataFrame\n",
      "\n",
      "See the caveats in the documentation: https://pandas.pydata.org/pandas-docs/stable/user_guide/indexing.html#returning-a-view-versus-a-copy\n",
      "  \"\"\"Entry point for launching an IPython kernel.\n"
     ]
    }
   ]
  },
  {
   "cell_type": "code",
   "metadata": {
    "colab": {
     "base_uri": "https://localhost:8080/"
    },
    "id": "8InxuS9xX-jt",
    "outputId": "3f46f19b-8433-48fd-96ad-830e2093190f"
   },
   "source": [
    "df.info()"
   ],
   "id": "8InxuS9xX-jt",
   "execution_count": null,
   "outputs": [
    {
     "output_type": "stream",
     "name": "stdout",
     "text": [
      "<class 'pandas.core.frame.DataFrame'>\n",
      "RangeIndex: 2416 entries, 0 to 2415\n",
      "Data columns (total 7 columns):\n",
      " #   Column     Non-Null Count  Dtype  \n",
      "---  ------     --------------  -----  \n",
      " 0   Date       2416 non-null   object \n",
      " 1   Open       2416 non-null   float64\n",
      " 2   High       2416 non-null   float64\n",
      " 3   Low        2416 non-null   float64\n",
      " 4   Close      2366 non-null   float64\n",
      " 5   Adj Close  2416 non-null   float64\n",
      " 6   Volume     2416 non-null   int64  \n",
      "dtypes: float64(5), int64(1), object(1)\n",
      "memory usage: 132.2+ KB\n"
     ]
    }
   ]
  },
  {
   "cell_type": "code",
   "metadata": {
    "colab": {
     "base_uri": "https://localhost:8080/",
     "height": 1000
    },
    "id": "eynr0eBeX-rR",
    "outputId": "5640bab7-bed8-4ca2-80ec-b32932d3bfba"
   },
   "source": [
    "df[df.Close.isna()]"
   ],
   "id": "eynr0eBeX-rR",
   "execution_count": null,
   "outputs": [
    {
     "output_type": "execute_result",
     "data": {
      "text/html": [
       "<div>\n",
       "<style scoped>\n",
       "    .dataframe tbody tr th:only-of-type {\n",
       "        vertical-align: middle;\n",
       "    }\n",
       "\n",
       "    .dataframe tbody tr th {\n",
       "        vertical-align: top;\n",
       "    }\n",
       "\n",
       "    .dataframe thead th {\n",
       "        text-align: right;\n",
       "    }\n",
       "</style>\n",
       "<table border=\"1\" class=\"dataframe\">\n",
       "  <thead>\n",
       "    <tr style=\"text-align: right;\">\n",
       "      <th></th>\n",
       "      <th>Date</th>\n",
       "      <th>Open</th>\n",
       "      <th>High</th>\n",
       "      <th>Low</th>\n",
       "      <th>Close</th>\n",
       "      <th>Adj Close</th>\n",
       "      <th>Volume</th>\n",
       "    </tr>\n",
       "  </thead>\n",
       "  <tbody>\n",
       "    <tr>\n",
       "      <th>79</th>\n",
       "      <td>2010-10-20</td>\n",
       "      <td>20.160000</td>\n",
       "      <td>20.690001</td>\n",
       "      <td>20.040001</td>\n",
       "      <td>NaN</td>\n",
       "      <td>20.650000</td>\n",
       "      <td>312500</td>\n",
       "    </tr>\n",
       "    <tr>\n",
       "      <th>176</th>\n",
       "      <td>2011-03-10</td>\n",
       "      <td>24.440001</td>\n",
       "      <td>24.490000</td>\n",
       "      <td>23.730000</td>\n",
       "      <td>NaN</td>\n",
       "      <td>24.010000</td>\n",
       "      <td>1017000</td>\n",
       "    </tr>\n",
       "    <tr>\n",
       "      <th>241</th>\n",
       "      <td>2011-06-13</td>\n",
       "      <td>28.070000</td>\n",
       "      <td>28.879999</td>\n",
       "      <td>27.879999</td>\n",
       "      <td>NaN</td>\n",
       "      <td>28.430000</td>\n",
       "      <td>1713400</td>\n",
       "    </tr>\n",
       "    <tr>\n",
       "      <th>245</th>\n",
       "      <td>2011-06-17</td>\n",
       "      <td>26.870001</td>\n",
       "      <td>27.700001</td>\n",
       "      <td>26.139999</td>\n",
       "      <td>NaN</td>\n",
       "      <td>26.500000</td>\n",
       "      <td>1714000</td>\n",
       "    </tr>\n",
       "    <tr>\n",
       "      <th>348</th>\n",
       "      <td>2011-11-11</td>\n",
       "      <td>31.900000</td>\n",
       "      <td>34.500000</td>\n",
       "      <td>30.570000</td>\n",
       "      <td>NaN</td>\n",
       "      <td>33.639999</td>\n",
       "      <td>3868300</td>\n",
       "    </tr>\n",
       "    <tr>\n",
       "      <th>390</th>\n",
       "      <td>2012-01-13</td>\n",
       "      <td>28.400000</td>\n",
       "      <td>28.500000</td>\n",
       "      <td>22.639999</td>\n",
       "      <td>NaN</td>\n",
       "      <td>22.790001</td>\n",
       "      <td>5500400</td>\n",
       "    </tr>\n",
       "    <tr>\n",
       "      <th>428</th>\n",
       "      <td>2012-03-09</td>\n",
       "      <td>33.200001</td>\n",
       "      <td>35.310001</td>\n",
       "      <td>33.200001</td>\n",
       "      <td>NaN</td>\n",
       "      <td>34.740002</td>\n",
       "      <td>1553400</td>\n",
       "    </tr>\n",
       "    <tr>\n",
       "      <th>530</th>\n",
       "      <td>2012-08-03</td>\n",
       "      <td>26.900000</td>\n",
       "      <td>27.549999</td>\n",
       "      <td>26.740000</td>\n",
       "      <td>NaN</td>\n",
       "      <td>27.270000</td>\n",
       "      <td>1209500</td>\n",
       "    </tr>\n",
       "    <tr>\n",
       "      <th>541</th>\n",
       "      <td>2012-08-20</td>\n",
       "      <td>30.150000</td>\n",
       "      <td>30.389999</td>\n",
       "      <td>29.100000</td>\n",
       "      <td>NaN</td>\n",
       "      <td>29.510000</td>\n",
       "      <td>1179100</td>\n",
       "    </tr>\n",
       "    <tr>\n",
       "      <th>616</th>\n",
       "      <td>2012-12-07</td>\n",
       "      <td>34.299999</td>\n",
       "      <td>34.490002</td>\n",
       "      <td>33.849998</td>\n",
       "      <td>NaN</td>\n",
       "      <td>34.169998</td>\n",
       "      <td>664400</td>\n",
       "    </tr>\n",
       "    <tr>\n",
       "      <th>637</th>\n",
       "      <td>2013-01-09</td>\n",
       "      <td>34.009998</td>\n",
       "      <td>34.189999</td>\n",
       "      <td>33.400002</td>\n",
       "      <td>NaN</td>\n",
       "      <td>33.639999</td>\n",
       "      <td>698000</td>\n",
       "    </tr>\n",
       "    <tr>\n",
       "      <th>726</th>\n",
       "      <td>2013-05-17</td>\n",
       "      <td>92.500000</td>\n",
       "      <td>94.440002</td>\n",
       "      <td>87.500000</td>\n",
       "      <td>NaN</td>\n",
       "      <td>91.500000</td>\n",
       "      <td>19002200</td>\n",
       "    </tr>\n",
       "    <tr>\n",
       "      <th>727</th>\n",
       "      <td>2013-05-20</td>\n",
       "      <td>91.120003</td>\n",
       "      <td>92.500000</td>\n",
       "      <td>88.629997</td>\n",
       "      <td>NaN</td>\n",
       "      <td>89.940002</td>\n",
       "      <td>8348400</td>\n",
       "    </tr>\n",
       "    <tr>\n",
       "      <th>758</th>\n",
       "      <td>2013-07-03</td>\n",
       "      <td>118.000000</td>\n",
       "      <td>119.250000</td>\n",
       "      <td>114.269997</td>\n",
       "      <td>NaN</td>\n",
       "      <td>115.239998</td>\n",
       "      <td>4806700</td>\n",
       "    </tr>\n",
       "    <tr>\n",
       "      <th>789</th>\n",
       "      <td>2013-08-16</td>\n",
       "      <td>141.630005</td>\n",
       "      <td>143.910004</td>\n",
       "      <td>140.970001</td>\n",
       "      <td>NaN</td>\n",
       "      <td>142.000000</td>\n",
       "      <td>7108100</td>\n",
       "    </tr>\n",
       "    <tr>\n",
       "      <th>895</th>\n",
       "      <td>2014-01-17</td>\n",
       "      <td>170.190002</td>\n",
       "      <td>173.199997</td>\n",
       "      <td>167.949997</td>\n",
       "      <td>NaN</td>\n",
       "      <td>170.009995</td>\n",
       "      <td>9206200</td>\n",
       "    </tr>\n",
       "    <tr>\n",
       "      <th>964</th>\n",
       "      <td>2014-04-29</td>\n",
       "      <td>198.210007</td>\n",
       "      <td>207.149994</td>\n",
       "      <td>195.529999</td>\n",
       "      <td>NaN</td>\n",
       "      <td>206.919998</td>\n",
       "      <td>5779100</td>\n",
       "    </tr>\n",
       "    <tr>\n",
       "      <th>1000</th>\n",
       "      <td>2014-06-19</td>\n",
       "      <td>228.880005</td>\n",
       "      <td>235.309998</td>\n",
       "      <td>227.000000</td>\n",
       "      <td>NaN</td>\n",
       "      <td>227.789993</td>\n",
       "      <td>8793100</td>\n",
       "    </tr>\n",
       "    <tr>\n",
       "      <th>1140</th>\n",
       "      <td>2015-01-08</td>\n",
       "      <td>212.809998</td>\n",
       "      <td>213.800003</td>\n",
       "      <td>210.009995</td>\n",
       "      <td>NaN</td>\n",
       "      <td>210.619995</td>\n",
       "      <td>3442500</td>\n",
       "    </tr>\n",
       "    <tr>\n",
       "      <th>1204</th>\n",
       "      <td>2015-04-13</td>\n",
       "      <td>210.440002</td>\n",
       "      <td>213.000000</td>\n",
       "      <td>209.050003</td>\n",
       "      <td>NaN</td>\n",
       "      <td>209.779999</td>\n",
       "      <td>3758200</td>\n",
       "    </tr>\n",
       "    <tr>\n",
       "      <th>1212</th>\n",
       "      <td>2015-04-23</td>\n",
       "      <td>218.270004</td>\n",
       "      <td>221.479996</td>\n",
       "      <td>217.149994</td>\n",
       "      <td>NaN</td>\n",
       "      <td>218.600006</td>\n",
       "      <td>4411200</td>\n",
       "    </tr>\n",
       "    <tr>\n",
       "      <th>1280</th>\n",
       "      <td>2015-07-30</td>\n",
       "      <td>262.690002</td>\n",
       "      <td>266.940002</td>\n",
       "      <td>262.109985</td>\n",
       "      <td>NaN</td>\n",
       "      <td>266.790009</td>\n",
       "      <td>2034600</td>\n",
       "    </tr>\n",
       "    <tr>\n",
       "      <th>1296</th>\n",
       "      <td>2015-08-21</td>\n",
       "      <td>236.000000</td>\n",
       "      <td>243.800003</td>\n",
       "      <td>230.509995</td>\n",
       "      <td>NaN</td>\n",
       "      <td>230.770004</td>\n",
       "      <td>6590200</td>\n",
       "    </tr>\n",
       "    <tr>\n",
       "      <th>1325</th>\n",
       "      <td>2015-10-02</td>\n",
       "      <td>235.600006</td>\n",
       "      <td>247.699997</td>\n",
       "      <td>234.929993</td>\n",
       "      <td>NaN</td>\n",
       "      <td>247.570007</td>\n",
       "      <td>4424000</td>\n",
       "    </tr>\n",
       "    <tr>\n",
       "      <th>1368</th>\n",
       "      <td>2015-12-03</td>\n",
       "      <td>235.479996</td>\n",
       "      <td>237.449997</td>\n",
       "      <td>230.000000</td>\n",
       "      <td>NaN</td>\n",
       "      <td>232.710007</td>\n",
       "      <td>2939600</td>\n",
       "    </tr>\n",
       "    <tr>\n",
       "      <th>1371</th>\n",
       "      <td>2015-12-08</td>\n",
       "      <td>227.520004</td>\n",
       "      <td>228.800003</td>\n",
       "      <td>224.199997</td>\n",
       "      <td>NaN</td>\n",
       "      <td>226.720001</td>\n",
       "      <td>2687600</td>\n",
       "    </tr>\n",
       "    <tr>\n",
       "      <th>1397</th>\n",
       "      <td>2016-01-15</td>\n",
       "      <td>198.970001</td>\n",
       "      <td>205.070007</td>\n",
       "      <td>197.250000</td>\n",
       "      <td>NaN</td>\n",
       "      <td>204.990005</td>\n",
       "      <td>5578600</td>\n",
       "    </tr>\n",
       "    <tr>\n",
       "      <th>1566</th>\n",
       "      <td>2016-09-16</td>\n",
       "      <td>200.419998</td>\n",
       "      <td>205.699997</td>\n",
       "      <td>199.000000</td>\n",
       "      <td>NaN</td>\n",
       "      <td>205.399994</td>\n",
       "      <td>3107800</td>\n",
       "    </tr>\n",
       "    <tr>\n",
       "      <th>1581</th>\n",
       "      <td>2016-10-07</td>\n",
       "      <td>201.000000</td>\n",
       "      <td>201.320007</td>\n",
       "      <td>195.800003</td>\n",
       "      <td>NaN</td>\n",
       "      <td>196.610001</td>\n",
       "      <td>3493000</td>\n",
       "    </tr>\n",
       "    <tr>\n",
       "      <th>1584</th>\n",
       "      <td>2016-10-12</td>\n",
       "      <td>200.949997</td>\n",
       "      <td>203.880005</td>\n",
       "      <td>200.419998</td>\n",
       "      <td>NaN</td>\n",
       "      <td>201.509995</td>\n",
       "      <td>1970700</td>\n",
       "    </tr>\n",
       "    <tr>\n",
       "      <th>1598</th>\n",
       "      <td>2016-11-01</td>\n",
       "      <td>198.039993</td>\n",
       "      <td>198.500000</td>\n",
       "      <td>188.110001</td>\n",
       "      <td>NaN</td>\n",
       "      <td>190.789993</td>\n",
       "      <td>7060000</td>\n",
       "    </tr>\n",
       "    <tr>\n",
       "      <th>1632</th>\n",
       "      <td>2016-12-20</td>\n",
       "      <td>203.050003</td>\n",
       "      <td>209.000000</td>\n",
       "      <td>202.500000</td>\n",
       "      <td>NaN</td>\n",
       "      <td>208.789993</td>\n",
       "      <td>4689100</td>\n",
       "    </tr>\n",
       "    <tr>\n",
       "      <th>1664</th>\n",
       "      <td>2017-02-07</td>\n",
       "      <td>258.190002</td>\n",
       "      <td>260.000000</td>\n",
       "      <td>256.420013</td>\n",
       "      <td>NaN</td>\n",
       "      <td>257.480011</td>\n",
       "      <td>4244800</td>\n",
       "    </tr>\n",
       "    <tr>\n",
       "      <th>1713</th>\n",
       "      <td>2017-04-19</td>\n",
       "      <td>302.459991</td>\n",
       "      <td>306.619995</td>\n",
       "      <td>302.109985</td>\n",
       "      <td>NaN</td>\n",
       "      <td>305.519989</td>\n",
       "      <td>3898000</td>\n",
       "    </tr>\n",
       "    <tr>\n",
       "      <th>1730</th>\n",
       "      <td>2017-05-12</td>\n",
       "      <td>325.480011</td>\n",
       "      <td>327.000000</td>\n",
       "      <td>321.529999</td>\n",
       "      <td>NaN</td>\n",
       "      <td>324.809998</td>\n",
       "      <td>4121600</td>\n",
       "    </tr>\n",
       "    <tr>\n",
       "      <th>1731</th>\n",
       "      <td>2017-05-15</td>\n",
       "      <td>318.380005</td>\n",
       "      <td>320.200012</td>\n",
       "      <td>312.529999</td>\n",
       "      <td>NaN</td>\n",
       "      <td>315.880005</td>\n",
       "      <td>7622000</td>\n",
       "    </tr>\n",
       "    <tr>\n",
       "      <th>1752</th>\n",
       "      <td>2017-06-14</td>\n",
       "      <td>381.089996</td>\n",
       "      <td>384.250000</td>\n",
       "      <td>376.309998</td>\n",
       "      <td>NaN</td>\n",
       "      <td>380.660004</td>\n",
       "      <td>12818400</td>\n",
       "    </tr>\n",
       "    <tr>\n",
       "      <th>1764</th>\n",
       "      <td>2017-06-30</td>\n",
       "      <td>363.709991</td>\n",
       "      <td>366.769989</td>\n",
       "      <td>359.619995</td>\n",
       "      <td>NaN</td>\n",
       "      <td>361.609985</td>\n",
       "      <td>5848500</td>\n",
       "    </tr>\n",
       "    <tr>\n",
       "      <th>1774</th>\n",
       "      <td>2017-07-17</td>\n",
       "      <td>325.540009</td>\n",
       "      <td>327.100006</td>\n",
       "      <td>313.450012</td>\n",
       "      <td>NaN</td>\n",
       "      <td>319.570007</td>\n",
       "      <td>9876900</td>\n",
       "    </tr>\n",
       "    <tr>\n",
       "      <th>1796</th>\n",
       "      <td>2017-08-16</td>\n",
       "      <td>363.000000</td>\n",
       "      <td>366.500000</td>\n",
       "      <td>362.519989</td>\n",
       "      <td>NaN</td>\n",
       "      <td>362.910004</td>\n",
       "      <td>3413800</td>\n",
       "    </tr>\n",
       "    <tr>\n",
       "      <th>1854</th>\n",
       "      <td>2017-11-07</td>\n",
       "      <td>301.019989</td>\n",
       "      <td>306.500000</td>\n",
       "      <td>300.029999</td>\n",
       "      <td>NaN</td>\n",
       "      <td>306.049988</td>\n",
       "      <td>5294300</td>\n",
       "    </tr>\n",
       "    <tr>\n",
       "      <th>1904</th>\n",
       "      <td>2018-01-22</td>\n",
       "      <td>349.399994</td>\n",
       "      <td>357.829987</td>\n",
       "      <td>349.200012</td>\n",
       "      <td>NaN</td>\n",
       "      <td>351.559998</td>\n",
       "      <td>6210400</td>\n",
       "    </tr>\n",
       "    <tr>\n",
       "      <th>1943</th>\n",
       "      <td>2018-03-19</td>\n",
       "      <td>316.500000</td>\n",
       "      <td>320.750000</td>\n",
       "      <td>309.670013</td>\n",
       "      <td>NaN</td>\n",
       "      <td>313.559998</td>\n",
       "      <td>7484300</td>\n",
       "    </tr>\n",
       "    <tr>\n",
       "      <th>1957</th>\n",
       "      <td>2018-04-09</td>\n",
       "      <td>300.369995</td>\n",
       "      <td>309.500000</td>\n",
       "      <td>289.209991</td>\n",
       "      <td>NaN</td>\n",
       "      <td>289.660004</td>\n",
       "      <td>10249800</td>\n",
       "    </tr>\n",
       "    <tr>\n",
       "      <th>2015</th>\n",
       "      <td>2018-06-29</td>\n",
       "      <td>353.329987</td>\n",
       "      <td>353.859985</td>\n",
       "      <td>342.410004</td>\n",
       "      <td>NaN</td>\n",
       "      <td>342.950012</td>\n",
       "      <td>6492400</td>\n",
       "    </tr>\n",
       "    <tr>\n",
       "      <th>2098</th>\n",
       "      <td>2018-10-26</td>\n",
       "      <td>308.250000</td>\n",
       "      <td>339.899994</td>\n",
       "      <td>306.649994</td>\n",
       "      <td>NaN</td>\n",
       "      <td>330.899994</td>\n",
       "      <td>27425500</td>\n",
       "    </tr>\n",
       "    <tr>\n",
       "      <th>2102</th>\n",
       "      <td>2018-11-01</td>\n",
       "      <td>338.260010</td>\n",
       "      <td>347.839996</td>\n",
       "      <td>334.730011</td>\n",
       "      <td>NaN</td>\n",
       "      <td>344.279999</td>\n",
       "      <td>8000100</td>\n",
       "    </tr>\n",
       "    <tr>\n",
       "      <th>2124</th>\n",
       "      <td>2018-12-04</td>\n",
       "      <td>356.049988</td>\n",
       "      <td>368.679993</td>\n",
       "      <td>352.000000</td>\n",
       "      <td>NaN</td>\n",
       "      <td>359.700012</td>\n",
       "      <td>8461900</td>\n",
       "    </tr>\n",
       "    <tr>\n",
       "      <th>2273</th>\n",
       "      <td>2019-07-11</td>\n",
       "      <td>238.139999</td>\n",
       "      <td>241.500000</td>\n",
       "      <td>235.800003</td>\n",
       "      <td>NaN</td>\n",
       "      <td>238.600006</td>\n",
       "      <td>7514400</td>\n",
       "    </tr>\n",
       "    <tr>\n",
       "      <th>2312</th>\n",
       "      <td>2019-09-05</td>\n",
       "      <td>222.500000</td>\n",
       "      <td>229.800003</td>\n",
       "      <td>220.850006</td>\n",
       "      <td>NaN</td>\n",
       "      <td>229.580002</td>\n",
       "      <td>7395300</td>\n",
       "    </tr>\n",
       "  </tbody>\n",
       "</table>\n",
       "</div>"
      ],
      "text/plain": [
       "            Date        Open        High  ...  Close   Adj Close    Volume\n",
       "79    2010-10-20   20.160000   20.690001  ...    NaN   20.650000    312500\n",
       "176   2011-03-10   24.440001   24.490000  ...    NaN   24.010000   1017000\n",
       "241   2011-06-13   28.070000   28.879999  ...    NaN   28.430000   1713400\n",
       "245   2011-06-17   26.870001   27.700001  ...    NaN   26.500000   1714000\n",
       "348   2011-11-11   31.900000   34.500000  ...    NaN   33.639999   3868300\n",
       "390   2012-01-13   28.400000   28.500000  ...    NaN   22.790001   5500400\n",
       "428   2012-03-09   33.200001   35.310001  ...    NaN   34.740002   1553400\n",
       "530   2012-08-03   26.900000   27.549999  ...    NaN   27.270000   1209500\n",
       "541   2012-08-20   30.150000   30.389999  ...    NaN   29.510000   1179100\n",
       "616   2012-12-07   34.299999   34.490002  ...    NaN   34.169998    664400\n",
       "637   2013-01-09   34.009998   34.189999  ...    NaN   33.639999    698000\n",
       "726   2013-05-17   92.500000   94.440002  ...    NaN   91.500000  19002200\n",
       "727   2013-05-20   91.120003   92.500000  ...    NaN   89.940002   8348400\n",
       "758   2013-07-03  118.000000  119.250000  ...    NaN  115.239998   4806700\n",
       "789   2013-08-16  141.630005  143.910004  ...    NaN  142.000000   7108100\n",
       "895   2014-01-17  170.190002  173.199997  ...    NaN  170.009995   9206200\n",
       "964   2014-04-29  198.210007  207.149994  ...    NaN  206.919998   5779100\n",
       "1000  2014-06-19  228.880005  235.309998  ...    NaN  227.789993   8793100\n",
       "1140  2015-01-08  212.809998  213.800003  ...    NaN  210.619995   3442500\n",
       "1204  2015-04-13  210.440002  213.000000  ...    NaN  209.779999   3758200\n",
       "1212  2015-04-23  218.270004  221.479996  ...    NaN  218.600006   4411200\n",
       "1280  2015-07-30  262.690002  266.940002  ...    NaN  266.790009   2034600\n",
       "1296  2015-08-21  236.000000  243.800003  ...    NaN  230.770004   6590200\n",
       "1325  2015-10-02  235.600006  247.699997  ...    NaN  247.570007   4424000\n",
       "1368  2015-12-03  235.479996  237.449997  ...    NaN  232.710007   2939600\n",
       "1371  2015-12-08  227.520004  228.800003  ...    NaN  226.720001   2687600\n",
       "1397  2016-01-15  198.970001  205.070007  ...    NaN  204.990005   5578600\n",
       "1566  2016-09-16  200.419998  205.699997  ...    NaN  205.399994   3107800\n",
       "1581  2016-10-07  201.000000  201.320007  ...    NaN  196.610001   3493000\n",
       "1584  2016-10-12  200.949997  203.880005  ...    NaN  201.509995   1970700\n",
       "1598  2016-11-01  198.039993  198.500000  ...    NaN  190.789993   7060000\n",
       "1632  2016-12-20  203.050003  209.000000  ...    NaN  208.789993   4689100\n",
       "1664  2017-02-07  258.190002  260.000000  ...    NaN  257.480011   4244800\n",
       "1713  2017-04-19  302.459991  306.619995  ...    NaN  305.519989   3898000\n",
       "1730  2017-05-12  325.480011  327.000000  ...    NaN  324.809998   4121600\n",
       "1731  2017-05-15  318.380005  320.200012  ...    NaN  315.880005   7622000\n",
       "1752  2017-06-14  381.089996  384.250000  ...    NaN  380.660004  12818400\n",
       "1764  2017-06-30  363.709991  366.769989  ...    NaN  361.609985   5848500\n",
       "1774  2017-07-17  325.540009  327.100006  ...    NaN  319.570007   9876900\n",
       "1796  2017-08-16  363.000000  366.500000  ...    NaN  362.910004   3413800\n",
       "1854  2017-11-07  301.019989  306.500000  ...    NaN  306.049988   5294300\n",
       "1904  2018-01-22  349.399994  357.829987  ...    NaN  351.559998   6210400\n",
       "1943  2018-03-19  316.500000  320.750000  ...    NaN  313.559998   7484300\n",
       "1957  2018-04-09  300.369995  309.500000  ...    NaN  289.660004  10249800\n",
       "2015  2018-06-29  353.329987  353.859985  ...    NaN  342.950012   6492400\n",
       "2098  2018-10-26  308.250000  339.899994  ...    NaN  330.899994  27425500\n",
       "2102  2018-11-01  338.260010  347.839996  ...    NaN  344.279999   8000100\n",
       "2124  2018-12-04  356.049988  368.679993  ...    NaN  359.700012   8461900\n",
       "2273  2019-07-11  238.139999  241.500000  ...    NaN  238.600006   7514400\n",
       "2312  2019-09-05  222.500000  229.800003  ...    NaN  229.580002   7395300\n",
       "\n",
       "[50 rows x 7 columns]"
      ]
     },
     "metadata": {},
     "execution_count": 88
    }
   ]
  },
  {
   "cell_type": "code",
   "metadata": {
    "colab": {
     "base_uri": "https://localhost:8080/",
     "height": 282
    },
    "id": "kpmF-PytYNut",
    "outputId": "d1becfdd-66b0-4f30-d047-55d053a6d4f0"
   },
   "source": [
    "plt.plot(df[df.Close.isna() == False]['Close'].index, df[df.Close.isna() == False]['Close'])"
   ],
   "id": "kpmF-PytYNut",
   "execution_count": null,
   "outputs": [
    {
     "output_type": "execute_result",
     "data": {
      "text/plain": [
       "[<matplotlib.lines.Line2D at 0x7ff2786458d0>]"
      ]
     },
     "metadata": {},
     "execution_count": 91
    },
    {
     "output_type": "display_data",
     "data": {
      "image/png": "[encoded data removed]",
      "text/plain": [
       "<Figure size 432x288 with 1 Axes>"
      ]
     },
     "metadata": {
      "needs_background": "light"
     }
    }
   ]
  },
  {
   "cell_type": "code",
   "metadata": {
    "colab": {
     "base_uri": "https://localhost:8080/",
     "height": 423
    },
    "id": "SIEjfDzDY0Ns",
    "outputId": "577d6617-bd9e-437b-f9f4-a324273f5363"
   },
   "source": [
    "# Заполним пропуски средним значением между вчера и завтра\n",
    "\n",
    "# а как\n"
   ],
   "id": "SIEjfDzDY0Ns",
   "execution_count": null,
   "outputs": [
    {
     "output_type": "execute_result",
     "data": {
      "text/html": [
       "<div>\n",
       "<style scoped>\n",
       "    .dataframe tbody tr th:only-of-type {\n",
       "        vertical-align: middle;\n",
       "    }\n",
       "\n",
       "    .dataframe tbody tr th {\n",
       "        vertical-align: top;\n",
       "    }\n",
       "\n",
       "    .dataframe thead th {\n",
       "        text-align: right;\n",
       "    }\n",
       "</style>\n",
       "<table border=\"1\" class=\"dataframe\">\n",
       "  <thead>\n",
       "    <tr style=\"text-align: right;\">\n",
       "      <th></th>\n",
       "      <th>Date</th>\n",
       "      <th>Open</th>\n",
       "      <th>High</th>\n",
       "      <th>Low</th>\n",
       "      <th>Close</th>\n",
       "      <th>Adj Close</th>\n",
       "      <th>Volume</th>\n",
       "    </tr>\n",
       "  </thead>\n",
       "  <tbody>\n",
       "    <tr>\n",
       "      <th>78</th>\n",
       "      <td>NaN</td>\n",
       "      <td>NaN</td>\n",
       "      <td>NaN</td>\n",
       "      <td>NaN</td>\n",
       "      <td>NaN</td>\n",
       "      <td>NaN</td>\n",
       "      <td>NaN</td>\n",
       "    </tr>\n",
       "    <tr>\n",
       "      <th>80</th>\n",
       "      <td>NaN</td>\n",
       "      <td>NaN</td>\n",
       "      <td>NaN</td>\n",
       "      <td>NaN</td>\n",
       "      <td>NaN</td>\n",
       "      <td>NaN</td>\n",
       "      <td>NaN</td>\n",
       "    </tr>\n",
       "    <tr>\n",
       "      <th>175</th>\n",
       "      <td>NaN</td>\n",
       "      <td>NaN</td>\n",
       "      <td>NaN</td>\n",
       "      <td>NaN</td>\n",
       "      <td>NaN</td>\n",
       "      <td>NaN</td>\n",
       "      <td>NaN</td>\n",
       "    </tr>\n",
       "    <tr>\n",
       "      <th>177</th>\n",
       "      <td>NaN</td>\n",
       "      <td>NaN</td>\n",
       "      <td>NaN</td>\n",
       "      <td>NaN</td>\n",
       "      <td>NaN</td>\n",
       "      <td>NaN</td>\n",
       "      <td>NaN</td>\n",
       "    </tr>\n",
       "    <tr>\n",
       "      <th>240</th>\n",
       "      <td>NaN</td>\n",
       "      <td>NaN</td>\n",
       "      <td>NaN</td>\n",
       "      <td>NaN</td>\n",
       "      <td>NaN</td>\n",
       "      <td>NaN</td>\n",
       "      <td>NaN</td>\n",
       "    </tr>\n",
       "    <tr>\n",
       "      <th>...</th>\n",
       "      <td>...</td>\n",
       "      <td>...</td>\n",
       "      <td>...</td>\n",
       "      <td>...</td>\n",
       "      <td>...</td>\n",
       "      <td>...</td>\n",
       "      <td>...</td>\n",
       "    </tr>\n",
       "    <tr>\n",
       "      <th>2125</th>\n",
       "      <td>NaN</td>\n",
       "      <td>NaN</td>\n",
       "      <td>NaN</td>\n",
       "      <td>NaN</td>\n",
       "      <td>NaN</td>\n",
       "      <td>NaN</td>\n",
       "      <td>NaN</td>\n",
       "    </tr>\n",
       "    <tr>\n",
       "      <th>2272</th>\n",
       "      <td>NaN</td>\n",
       "      <td>NaN</td>\n",
       "      <td>NaN</td>\n",
       "      <td>NaN</td>\n",
       "      <td>NaN</td>\n",
       "      <td>NaN</td>\n",
       "      <td>NaN</td>\n",
       "    </tr>\n",
       "    <tr>\n",
       "      <th>2274</th>\n",
       "      <td>NaN</td>\n",
       "      <td>NaN</td>\n",
       "      <td>NaN</td>\n",
       "      <td>NaN</td>\n",
       "      <td>NaN</td>\n",
       "      <td>NaN</td>\n",
       "      <td>NaN</td>\n",
       "    </tr>\n",
       "    <tr>\n",
       "      <th>2311</th>\n",
       "      <td>NaN</td>\n",
       "      <td>NaN</td>\n",
       "      <td>NaN</td>\n",
       "      <td>NaN</td>\n",
       "      <td>NaN</td>\n",
       "      <td>NaN</td>\n",
       "      <td>NaN</td>\n",
       "    </tr>\n",
       "    <tr>\n",
       "      <th>2313</th>\n",
       "      <td>NaN</td>\n",
       "      <td>NaN</td>\n",
       "      <td>NaN</td>\n",
       "      <td>NaN</td>\n",
       "      <td>NaN</td>\n",
       "      <td>NaN</td>\n",
       "      <td>NaN</td>\n",
       "    </tr>\n",
       "  </tbody>\n",
       "</table>\n",
       "<p>100 rows × 7 columns</p>\n",
       "</div>"
      ],
      "text/plain": [
       "      Date  Open  High  Low  Close  Adj Close  Volume\n",
       "78     NaN   NaN   NaN  NaN    NaN        NaN     NaN\n",
       "80     NaN   NaN   NaN  NaN    NaN        NaN     NaN\n",
       "175    NaN   NaN   NaN  NaN    NaN        NaN     NaN\n",
       "177    NaN   NaN   NaN  NaN    NaN        NaN     NaN\n",
       "240    NaN   NaN   NaN  NaN    NaN        NaN     NaN\n",
       "...    ...   ...   ...  ...    ...        ...     ...\n",
       "2125   NaN   NaN   NaN  NaN    NaN        NaN     NaN\n",
       "2272   NaN   NaN   NaN  NaN    NaN        NaN     NaN\n",
       "2274   NaN   NaN   NaN  NaN    NaN        NaN     NaN\n",
       "2311   NaN   NaN   NaN  NaN    NaN        NaN     NaN\n",
       "2313   NaN   NaN   NaN  NaN    NaN        NaN     NaN\n",
       "\n",
       "[100 rows x 7 columns]"
      ]
     },
     "metadata": {},
     "execution_count": 100
    }
   ]
  },
  {
   "cell_type": "code",
   "metadata": {
    "colab": {
     "base_uri": "https://localhost:8080/"
    },
    "id": "P8L_6VGbX-wd",
    "outputId": "55eca9de-acae-4054-d7c1-b89400df4ed7"
   },
   "source": [
    "df['Close'].fillna(df['Close'].mean())"
   ],
   "id": "P8L_6VGbX-wd",
   "execution_count": null,
   "outputs": [
    {
     "output_type": "execute_result",
     "data": {
      "text/plain": [
       "0        23.889999\n",
       "1        23.830000\n",
       "2        21.959999\n",
       "3        19.200001\n",
       "4        16.110001\n",
       "           ...    \n",
       "2411    566.900024\n",
       "2412    580.989990\n",
       "2413    640.809998\n",
       "2414    650.570007\n",
       "2415    780.000000\n",
       "Name: Close, Length: 2416, dtype: float64"
      ]
     },
     "metadata": {},
     "execution_count": 101
    }
   ]
  },
  {
   "cell_type": "code",
   "metadata": {
    "id": "gaNBQKkaX-0s"
   },
   "source": [
    ""
   ],
   "id": "gaNBQKkaX-0s",
   "execution_count": null,
   "outputs": []
  }
 ]
}